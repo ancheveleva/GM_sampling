{
 "cells": [
  {
   "cell_type": "code",
   "execution_count": 2,
   "id": "a6f1d6c2",
   "metadata": {},
   "outputs": [],
   "source": [
    "import numpy as np\n",
    "import pandas as pd\n",
    "import re\n",
    "import json\n",
    "import random"
   ]
  },
  {
   "cell_type": "markdown",
   "id": "64c32f92",
   "metadata": {},
   "source": [
    "# Source.bib preprocessing"
   ]
  },
  {
   "cell_type": "code",
   "execution_count": 19,
   "id": "bc53cddd",
   "metadata": {},
   "outputs": [],
   "source": [
    "# download source.bib from https://github.com/cldf-datasets/glottolog-cldf/blob/master/cldf/sources.bib"
   ]
  },
  {
   "cell_type": "code",
   "execution_count": 2,
   "id": "0ec15365",
   "metadata": {},
   "outputs": [
    {
     "data": {
      "text/plain": [
       "(408600, 223)"
      ]
     },
     "execution_count": 2,
     "metadata": {},
     "output_type": "execute_result"
    }
   ],
   "source": [
    "with open('./source.bib', encoding='utf-8') as f:\n",
    "    text = f.read()\n",
    "\n",
    "re_type_id = re.compile(r'@(\\w+?)\\{(\\d+?)\\,')\n",
    "re_dict = re.compile(r'(\\w+?-*\\w+?)\\s+?=\\s+?(.*?)\"')\n",
    "\n",
    "r1 = text.replace('\"', \"'\").replace(\"\\\\\", \"/\").replace(\"},\\n\", \"\"\" \", \"\"\").replace(\"}\\n}\", \"\"\" \"$ \"\"\")\n",
    "r1 = re_type_id.sub(r'$\"bibtype\": \"\\1\", \"id\": \"\\2\", ', r1)\n",
    "r1 = r1.replace(\"{\", '').replace(\"}\", '').replace('$ $', '}, {')\n",
    "r2 = re_dict.sub(r\"\"\" \"\\1\": \"\\2\" \"\"\", r1)\n",
    "r3 = \"[{\" + r2[1:-2] + \"}]\"\n",
    "\n",
    "json_text = json.loads(r3)\n",
    "df = pd.json_normalize(json_text) \n",
    "df.shape"
   ]
  },
  {
   "cell_type": "code",
   "execution_count": 3,
   "id": "667b151d",
   "metadata": {},
   "outputs": [
    {
     "data": {
      "text/plain": [
       "(15919, 156)"
      ]
     },
     "execution_count": 3,
     "metadata": {},
     "output_type": "execute_result"
    }
   ],
   "source": [
    "df_gr = df[df['hhtype'].isin(['grammar_sketch ', 'grammar '])]\n",
    "df_gr = df_gr.dropna(axis=1, how='all')\n",
    "df_gr = df_gr[df_gr['lgcode'].notna()]\n",
    "df_gr.shape"
   ]
  },
  {
   "cell_type": "code",
   "execution_count": 4,
   "id": "6a0bf66f",
   "metadata": {},
   "outputs": [
    {
     "data": {
      "text/plain": [
       "1     15206\n",
       "0       392\n",
       "2       215\n",
       "3        60\n",
       "4        21\n",
       "5        10\n",
       "6         9\n",
       "7         3\n",
       "15        1\n",
       "9         1\n",
       "8         1\n",
       "Name: count, dtype: int64"
      ]
     },
     "execution_count": 4,
     "metadata": {},
     "output_type": "execute_result"
    }
   ],
   "source": [
    "re_lng = re.compile(r'\\[\\w{3}\\]')\n",
    "def lgcode_count(l):\n",
    "    lngs = re_lng.findall(l)\n",
    "    return len(lngs)\n",
    "\n",
    "df_gr['count'] = df_gr['lgcode'].apply(lgcode_count)\n",
    "df_gr['count'].value_counts()"
   ]
  },
  {
   "cell_type": "code",
   "execution_count": 5,
   "id": "4685b32a",
   "metadata": {},
   "outputs": [],
   "source": [
    "cols = [\n",
    "        'title', 'author', 'year', 'hhtype', 'pages', 'inlg', 'lgcode', 'macro_area', 'src',\n",
    "        'isbn', 'glottolog_ref', 'howpublished', 'url', 'doi', 'shelf_location', \n",
    "        'guldemann_location', 'goba_namedlocation'\n",
    "       ]\n",
    "df_gr1 = df_gr[df_gr['count'] == 1][cols]\n",
    "\n",
    "re_lng = re.compile(r'\\[\\w{3}\\]')\n",
    "def get_lgcode(l):\n",
    "    try:\n",
    "        lngs = re_lng.findall(l)\n",
    "        return lngs[0][1:-1]\n",
    "    except:\n",
    "        return ''\n",
    "    \n",
    "df_gr1['lgcode_iso3'] = df_gr1['lgcode'].apply(get_lgcode)\n",
    "df_gr1['inlg_iso3'] = df_gr1['inlg'].apply(get_lgcode)"
   ]
  },
  {
   "cell_type": "code",
   "execution_count": 6,
   "id": "3c7a5ea6",
   "metadata": {},
   "outputs": [],
   "source": [
    "rom_val = {'I': 1, 'V': 5, 'X': 10, 'L': 50, 'C': 100, 'D': 500, 'M': 1000}\n",
    "\n",
    "def to_int(list_of_s):\n",
    "    list_of_int = []\n",
    "    for s in list_of_s:\n",
    "        if s.isalpha():\n",
    "            s = s.upper()\n",
    "            int_val = 0\n",
    "            for i in range(len(s)):\n",
    "                if i > 0 and rom_val[s[i]] > rom_val[s[i - 1]]:\n",
    "                    int_val += rom_val[s[i]] - 2 * rom_val[s[i - 1]]\n",
    "                else:\n",
    "                    int_val += rom_val[s[i]]\n",
    "            list_of_int.append(int_val)\n",
    "        else:\n",
    "            list_of_int.append(int(s))\n",
    "    return list_of_int\n",
    "\n",
    "def pages_minus(s):\n",
    "    p_minus = to_int(s.split('-'))\n",
    "    pm = p_minus[1] - p_minus[0] + 1\n",
    "    return pm\n",
    "\n",
    "def pages_to_int(s):\n",
    "    try:\n",
    "        s = s.strip().replace('–', '-')\n",
    "        parts = s.split(', ')\n",
    "        pages_total = 0\n",
    "        for p in parts:\n",
    "            if '+' in p:\n",
    "                s_plus = s.split('+')\n",
    "                for sp in s_plus:\n",
    "                    if '-' in sp:\n",
    "                        pages_total += pages_minus(sp)\n",
    "                    else:\n",
    "                        pages_total += to_int([sp])[0]\n",
    "            elif '-' in p:\n",
    "                pages_total += pages_minus(p)\n",
    "            else:\n",
    "                pages_total += to_int([p])[0]\n",
    "        return pages_total\n",
    "    except:\n",
    "        return 0\n",
    "    \n",
    "\n",
    "df_gr1['pages'] = df_gr1['pages'].fillna('0')\n",
    "df_gr1['pages_sum'] = df_gr1['pages'].apply(pages_to_int)\n",
    "df_gr1 = df_gr1[df_gr1['pages_sum'] != 0]"
   ]
  },
  {
   "cell_type": "code",
   "execution_count": 7,
   "id": "67226623",
   "metadata": {},
   "outputs": [],
   "source": [
    "inlgs = ['eng', 'rus', 'fra']\n",
    "df_gr1_in = df_gr1[df_gr1['inlg_iso3'].isin(inlgs)]"
   ]
  },
  {
   "cell_type": "code",
   "execution_count": 8,
   "id": "a3a5b558",
   "metadata": {},
   "outputs": [
    {
     "data": {
      "text/plain": [
       "(3657, 16)"
      ]
     },
     "execution_count": 8,
     "metadata": {},
     "output_type": "execute_result"
    }
   ],
   "source": [
    "groups_lg = df_gr1_in.groupby(by=['lgcode_iso3'], as_index = False)\n",
    "only_max = groups_lg.apply(lambda g: g[g['pages_sum'] == g['pages_sum'].max()])\n",
    "only_max = only_max.drop_duplicates(subset=['lgcode_iso3'], keep='last')\n",
    "cols = list(set(only_max.columns) - set(['glottolog_ref', 'howpublished', 'shelf_location', 'goba_namedlocation']))\n",
    "only_max = only_max[cols]\n",
    "only_max.shape"
   ]
  },
  {
   "cell_type": "code",
   "execution_count": 437,
   "id": "1da45c35",
   "metadata": {},
   "outputs": [],
   "source": [
    "# only_max.to_csv('source_only_max.csv', index=False)"
   ]
  },
  {
   "cell_type": "markdown",
   "id": "4ec1971e",
   "metadata": {},
   "source": [
    "# WALS (?+ Glottolog)"
   ]
  },
  {
   "cell_type": "code",
   "execution_count": 422,
   "id": "a2a532aa",
   "metadata": {},
   "outputs": [],
   "source": [
    "# current version\n",
    "wals_lngs_url = 'https://raw.githubusercontent.com/cldf-datasets/wals/master/cldf/languages.csv'\n",
    "#glottolog_lngs_url = 'https://raw.githubusercontent.com/cldf-datasets/glottolog-cldf/master/cldf/languages.csv'"
   ]
  },
  {
   "cell_type": "code",
   "execution_count": 423,
   "id": "1ae74bda",
   "metadata": {},
   "outputs": [],
   "source": [
    "df_wals_lngs = pd.read_csv(wals_lngs_url).loc[:2661, :]\n",
    "#df_glot_lngs = pd.read_csv(glottolog_lngs_url)"
   ]
  },
  {
   "cell_type": "code",
   "execution_count": 424,
   "id": "052e3bba",
   "metadata": {},
   "outputs": [
    {
     "data": {
      "text/plain": [
       "(2662, 17)"
      ]
     },
     "execution_count": 424,
     "metadata": {},
     "output_type": "execute_result"
    }
   ],
   "source": [
    "df_wals_lngs.shape"
   ]
  },
  {
   "cell_type": "code",
   "execution_count": 425,
   "id": "3754cfed",
   "metadata": {},
   "outputs": [],
   "source": [
    "# not considering sign languages, creoles&pigins\n",
    "df_wals_lngs = df_wals_lngs[df_wals_lngs['Family'] != 'other']"
   ]
  },
  {
   "cell_type": "code",
   "execution_count": 426,
   "id": "5a69bc1b",
   "metadata": {},
   "outputs": [
    {
     "data": {
      "text/html": [
       "<div>\n",
       "<style scoped>\n",
       "    .dataframe tbody tr th:only-of-type {\n",
       "        vertical-align: middle;\n",
       "    }\n",
       "\n",
       "    .dataframe tbody tr th {\n",
       "        vertical-align: top;\n",
       "    }\n",
       "\n",
       "    .dataframe thead th {\n",
       "        text-align: right;\n",
       "    }\n",
       "</style>\n",
       "<table border=\"1\" class=\"dataframe\">\n",
       "  <thead>\n",
       "    <tr style=\"text-align: right;\">\n",
       "      <th></th>\n",
       "      <th>ID</th>\n",
       "      <th>Name</th>\n",
       "      <th>Macroarea</th>\n",
       "      <th>Latitude</th>\n",
       "      <th>Longitude</th>\n",
       "      <th>Glottocode</th>\n",
       "      <th>ISO639P3code</th>\n",
       "      <th>Family</th>\n",
       "      <th>Subfamily</th>\n",
       "      <th>Genus</th>\n",
       "      <th>GenusIcon</th>\n",
       "      <th>ISO_codes</th>\n",
       "      <th>Samples_100</th>\n",
       "      <th>Samples_200</th>\n",
       "      <th>Country_ID</th>\n",
       "      <th>Source</th>\n",
       "      <th>Parent_ID</th>\n",
       "    </tr>\n",
       "  </thead>\n",
       "  <tbody>\n",
       "    <tr>\n",
       "      <th>0</th>\n",
       "      <td>aab</td>\n",
       "      <td>Arapesh (Abu)</td>\n",
       "      <td>Papunesia</td>\n",
       "      <td>-3.450000</td>\n",
       "      <td>142.950000</td>\n",
       "      <td>abua1245</td>\n",
       "      <td>aah</td>\n",
       "      <td>Torricelli</td>\n",
       "      <td>NaN</td>\n",
       "      <td>Kombio-Arapesh</td>\n",
       "      <td>NaN</td>\n",
       "      <td>aah</td>\n",
       "      <td>False</td>\n",
       "      <td>False</td>\n",
       "      <td>PG</td>\n",
       "      <td>Nekitel-1985</td>\n",
       "      <td>genus-kombioarapesh</td>\n",
       "    </tr>\n",
       "    <tr>\n",
       "      <th>1</th>\n",
       "      <td>aar</td>\n",
       "      <td>Aari</td>\n",
       "      <td>Africa</td>\n",
       "      <td>6.000000</td>\n",
       "      <td>36.583333</td>\n",
       "      <td>aari1239</td>\n",
       "      <td>aiw</td>\n",
       "      <td>Afro-Asiatic</td>\n",
       "      <td>Omotic</td>\n",
       "      <td>South Omotic</td>\n",
       "      <td>NaN</td>\n",
       "      <td>aiw</td>\n",
       "      <td>False</td>\n",
       "      <td>False</td>\n",
       "      <td>ET</td>\n",
       "      <td>Hayward-1990a</td>\n",
       "      <td>genus-southomotic</td>\n",
       "    </tr>\n",
       "    <tr>\n",
       "      <th>2</th>\n",
       "      <td>aba</td>\n",
       "      <td>Abau</td>\n",
       "      <td>Papunesia</td>\n",
       "      <td>-4.000000</td>\n",
       "      <td>141.250000</td>\n",
       "      <td>abau1245</td>\n",
       "      <td>aau</td>\n",
       "      <td>Sepik</td>\n",
       "      <td>NaN</td>\n",
       "      <td>Abau</td>\n",
       "      <td>NaN</td>\n",
       "      <td>aau</td>\n",
       "      <td>False</td>\n",
       "      <td>False</td>\n",
       "      <td>PG</td>\n",
       "      <td>Bailey-1975</td>\n",
       "      <td>genus-abau</td>\n",
       "    </tr>\n",
       "    <tr>\n",
       "      <th>3</th>\n",
       "      <td>abb</td>\n",
       "      <td>Arabic (Chadian)</td>\n",
       "      <td>Africa</td>\n",
       "      <td>13.833333</td>\n",
       "      <td>20.833333</td>\n",
       "      <td>chad1249</td>\n",
       "      <td>shu</td>\n",
       "      <td>Afro-Asiatic</td>\n",
       "      <td>NaN</td>\n",
       "      <td>Semitic</td>\n",
       "      <td>NaN</td>\n",
       "      <td>shu</td>\n",
       "      <td>False</td>\n",
       "      <td>False</td>\n",
       "      <td>TD</td>\n",
       "      <td>Abu-Absi-1995</td>\n",
       "      <td>genus-semitic</td>\n",
       "    </tr>\n",
       "    <tr>\n",
       "      <th>4</th>\n",
       "      <td>abd</td>\n",
       "      <td>Abidji</td>\n",
       "      <td>Africa</td>\n",
       "      <td>5.666667</td>\n",
       "      <td>-4.583333</td>\n",
       "      <td>abid1235</td>\n",
       "      <td>abi</td>\n",
       "      <td>Niger-Congo</td>\n",
       "      <td>Kwa</td>\n",
       "      <td>Agneby</td>\n",
       "      <td>NaN</td>\n",
       "      <td>abi</td>\n",
       "      <td>False</td>\n",
       "      <td>False</td>\n",
       "      <td>CI</td>\n",
       "      <td>NaN</td>\n",
       "      <td>genus-agneby</td>\n",
       "    </tr>\n",
       "    <tr>\n",
       "      <th>...</th>\n",
       "      <td>...</td>\n",
       "      <td>...</td>\n",
       "      <td>...</td>\n",
       "      <td>...</td>\n",
       "      <td>...</td>\n",
       "      <td>...</td>\n",
       "      <td>...</td>\n",
       "      <td>...</td>\n",
       "      <td>...</td>\n",
       "      <td>...</td>\n",
       "      <td>...</td>\n",
       "      <td>...</td>\n",
       "      <td>...</td>\n",
       "      <td>...</td>\n",
       "      <td>...</td>\n",
       "      <td>...</td>\n",
       "      <td>...</td>\n",
       "    </tr>\n",
       "    <tr>\n",
       "      <th>2657</th>\n",
       "      <td>zte</td>\n",
       "      <td>Zapotec (Texmelucan)</td>\n",
       "      <td>North America</td>\n",
       "      <td>16.500000</td>\n",
       "      <td>-97.166667</td>\n",
       "      <td>texm1235</td>\n",
       "      <td>zpz</td>\n",
       "      <td>Oto-Manguean</td>\n",
       "      <td>NaN</td>\n",
       "      <td>Zapotecan</td>\n",
       "      <td>NaN</td>\n",
       "      <td>zpz</td>\n",
       "      <td>False</td>\n",
       "      <td>False</td>\n",
       "      <td>MX</td>\n",
       "      <td>NaN</td>\n",
       "      <td>genus-zapotecan</td>\n",
       "    </tr>\n",
       "    <tr>\n",
       "      <th>2658</th>\n",
       "      <td>zul</td>\n",
       "      <td>Zulu</td>\n",
       "      <td>Africa</td>\n",
       "      <td>-30.000000</td>\n",
       "      <td>30.000000</td>\n",
       "      <td>zulu1248</td>\n",
       "      <td>zul</td>\n",
       "      <td>Niger-Congo</td>\n",
       "      <td>Benue-Congo</td>\n",
       "      <td>Bantu</td>\n",
       "      <td>NaN</td>\n",
       "      <td>zul</td>\n",
       "      <td>True</td>\n",
       "      <td>True</td>\n",
       "      <td>ZA</td>\n",
       "      <td>Canonici-1989 Canonici-1995 Cope-1982 Dahl-198...</td>\n",
       "      <td>genus-bantu</td>\n",
       "    </tr>\n",
       "    <tr>\n",
       "      <th>2659</th>\n",
       "      <td>zun</td>\n",
       "      <td>Zuni</td>\n",
       "      <td>North America</td>\n",
       "      <td>35.083333</td>\n",
       "      <td>-108.833333</td>\n",
       "      <td>zuni1245</td>\n",
       "      <td>zun</td>\n",
       "      <td>Zuni</td>\n",
       "      <td>NaN</td>\n",
       "      <td>Zuni</td>\n",
       "      <td>NaN</td>\n",
       "      <td>zun</td>\n",
       "      <td>False</td>\n",
       "      <td>False</td>\n",
       "      <td>US</td>\n",
       "      <td>Bunzel-1933-1938 Bybee-et-al-1994 Cook-1975 Mi...</td>\n",
       "      <td>genus-zuni</td>\n",
       "    </tr>\n",
       "    <tr>\n",
       "      <th>2660</th>\n",
       "      <td>zya</td>\n",
       "      <td>Zapotec (Yatzachi)</td>\n",
       "      <td>North America</td>\n",
       "      <td>17.200000</td>\n",
       "      <td>-96.200000</td>\n",
       "      <td>yatz1235</td>\n",
       "      <td>zav</td>\n",
       "      <td>Oto-Manguean</td>\n",
       "      <td>NaN</td>\n",
       "      <td>Zapotecan</td>\n",
       "      <td>NaN</td>\n",
       "      <td>zav</td>\n",
       "      <td>False</td>\n",
       "      <td>False</td>\n",
       "      <td>MX</td>\n",
       "      <td>Butler-1980</td>\n",
       "      <td>genus-zapotecan</td>\n",
       "    </tr>\n",
       "    <tr>\n",
       "      <th>2661</th>\n",
       "      <td>zzo</td>\n",
       "      <td>Zapotec (Zoogocho)</td>\n",
       "      <td>North America</td>\n",
       "      <td>17.250000</td>\n",
       "      <td>-96.250000</td>\n",
       "      <td>zoog1238</td>\n",
       "      <td>zpq</td>\n",
       "      <td>Oto-Manguean</td>\n",
       "      <td>NaN</td>\n",
       "      <td>Zapotecan</td>\n",
       "      <td>NaN</td>\n",
       "      <td>zpq</td>\n",
       "      <td>False</td>\n",
       "      <td>False</td>\n",
       "      <td>MX</td>\n",
       "      <td>Long-C-and-Cruz-M-1999 Sonnenschein-2005</td>\n",
       "      <td>genus-zapotecan</td>\n",
       "    </tr>\n",
       "  </tbody>\n",
       "</table>\n",
       "<p>2590 rows × 17 columns</p>\n",
       "</div>"
      ],
      "text/plain": [
       "       ID                  Name      Macroarea   Latitude   Longitude  \\\n",
       "0     aab         Arapesh (Abu)      Papunesia  -3.450000  142.950000   \n",
       "1     aar                  Aari         Africa   6.000000   36.583333   \n",
       "2     aba                  Abau      Papunesia  -4.000000  141.250000   \n",
       "3     abb      Arabic (Chadian)         Africa  13.833333   20.833333   \n",
       "4     abd                Abidji         Africa   5.666667   -4.583333   \n",
       "...   ...                   ...            ...        ...         ...   \n",
       "2657  zte  Zapotec (Texmelucan)  North America  16.500000  -97.166667   \n",
       "2658  zul                  Zulu         Africa -30.000000   30.000000   \n",
       "2659  zun                  Zuni  North America  35.083333 -108.833333   \n",
       "2660  zya    Zapotec (Yatzachi)  North America  17.200000  -96.200000   \n",
       "2661  zzo    Zapotec (Zoogocho)  North America  17.250000  -96.250000   \n",
       "\n",
       "     Glottocode ISO639P3code        Family    Subfamily           Genus  \\\n",
       "0      abua1245          aah    Torricelli          NaN  Kombio-Arapesh   \n",
       "1      aari1239          aiw  Afro-Asiatic       Omotic    South Omotic   \n",
       "2      abau1245          aau         Sepik          NaN            Abau   \n",
       "3      chad1249          shu  Afro-Asiatic          NaN         Semitic   \n",
       "4      abid1235          abi   Niger-Congo          Kwa          Agneby   \n",
       "...         ...          ...           ...          ...             ...   \n",
       "2657   texm1235          zpz  Oto-Manguean          NaN       Zapotecan   \n",
       "2658   zulu1248          zul   Niger-Congo  Benue-Congo           Bantu   \n",
       "2659   zuni1245          zun          Zuni          NaN            Zuni   \n",
       "2660   yatz1235          zav  Oto-Manguean          NaN       Zapotecan   \n",
       "2661   zoog1238          zpq  Oto-Manguean          NaN       Zapotecan   \n",
       "\n",
       "     GenusIcon ISO_codes Samples_100 Samples_200 Country_ID  \\\n",
       "0          NaN       aah       False       False         PG   \n",
       "1          NaN       aiw       False       False         ET   \n",
       "2          NaN       aau       False       False         PG   \n",
       "3          NaN       shu       False       False         TD   \n",
       "4          NaN       abi       False       False         CI   \n",
       "...        ...       ...         ...         ...        ...   \n",
       "2657       NaN       zpz       False       False         MX   \n",
       "2658       NaN       zul        True        True         ZA   \n",
       "2659       NaN       zun       False       False         US   \n",
       "2660       NaN       zav       False       False         MX   \n",
       "2661       NaN       zpq       False       False         MX   \n",
       "\n",
       "                                                 Source            Parent_ID  \n",
       "0                                          Nekitel-1985  genus-kombioarapesh  \n",
       "1                                         Hayward-1990a    genus-southomotic  \n",
       "2                                           Bailey-1975           genus-abau  \n",
       "3                                         Abu-Absi-1995        genus-semitic  \n",
       "4                                                   NaN         genus-agneby  \n",
       "...                                                 ...                  ...  \n",
       "2657                                                NaN      genus-zapotecan  \n",
       "2658  Canonici-1989 Canonici-1995 Cope-1982 Dahl-198...          genus-bantu  \n",
       "2659  Bunzel-1933-1938 Bybee-et-al-1994 Cook-1975 Mi...           genus-zuni  \n",
       "2660                                        Butler-1980      genus-zapotecan  \n",
       "2661           Long-C-and-Cruz-M-1999 Sonnenschein-2005      genus-zapotecan  \n",
       "\n",
       "[2590 rows x 17 columns]"
      ]
     },
     "execution_count": 426,
     "metadata": {},
     "output_type": "execute_result"
    }
   ],
   "source": [
    "df_wals_lngs"
   ]
  },
  {
   "cell_type": "code",
   "execution_count": 427,
   "id": "1638b81b",
   "metadata": {},
   "outputs": [
    {
     "data": {
      "text/plain": [
       "(2590, 17)"
      ]
     },
     "execution_count": 427,
     "metadata": {},
     "output_type": "execute_result"
    }
   ],
   "source": [
    "df_wals_lngs.shape"
   ]
  },
  {
   "cell_type": "code",
   "execution_count": 428,
   "id": "b6018ca1",
   "metadata": {},
   "outputs": [
    {
     "data": {
      "text/plain": [
       "Macroarea\n",
       "Africa           124\n",
       "Australia         38\n",
       "Eurasia           87\n",
       "North America    106\n",
       "Papunesia        165\n",
       "South America    110\n",
       "Name: Genus, dtype: int64"
      ]
     },
     "execution_count": 428,
     "metadata": {},
     "output_type": "execute_result"
    }
   ],
   "source": [
    "# Genus Sample (by Miestamo, 2015)\n",
    "# considering ISO_codes with comma and without any value (will be dropped when merged with sources)\n",
    "gs = df_wals_lngs.groupby('Macroarea')['Genus'].nunique()\n",
    "gs"
   ]
  },
  {
   "cell_type": "code",
   "execution_count": 429,
   "id": "333cd51a",
   "metadata": {},
   "outputs": [],
   "source": [
    "df_wals_gr_area_fam = df_wals_lngs.groupby(['Macroarea', 'Family'])['Genus'].count()"
   ]
  },
  {
   "cell_type": "code",
   "execution_count": 145,
   "id": "2fadcc41",
   "metadata": {},
   "outputs": [
    {
     "data": {
      "text/plain": [
       "Family\n",
       "Bunuban               2\n",
       "Darwin Region         2\n",
       "Eastern Daly          2\n",
       "Gaagudju              1\n",
       "Garrwan               1\n",
       "Gunwinyguan           9\n",
       "Iwaidjan              2\n",
       "Jarrakan              2\n",
       "Mangarrayi-Maran      4\n",
       "Mangrida              4\n",
       "Mirndi                3\n",
       "Northern Daly         2\n",
       "Nyulnyulan            5\n",
       "Pama-Nyungan        120\n",
       "Southern Daly         3\n",
       "Tangkic               3\n",
       "Tasmanian             2\n",
       "Tiwian                1\n",
       "Wagiman               1\n",
       "Wandjiginy            2\n",
       "Western Daly          4\n",
       "Worrorran             3\n",
       "Yangmanic             1\n",
       "Name: Genus, dtype: int64"
      ]
     },
     "execution_count": 145,
     "metadata": {},
     "output_type": "execute_result"
    }
   ],
   "source": [
    "df_wals_gr_area_fam['Australia']"
   ]
  },
  {
   "cell_type": "code",
   "execution_count": 146,
   "id": "c3fe6527",
   "metadata": {},
   "outputs": [
    {
     "data": {
      "text/plain": [
       "630"
      ]
     },
     "execution_count": 146,
     "metadata": {},
     "output_type": "execute_result"
    }
   ],
   "source": [
    "sum(gs)"
   ]
  },
  {
   "cell_type": "code",
   "execution_count": 151,
   "id": "72eed823",
   "metadata": {},
   "outputs": [
    {
     "data": {
      "text/plain": [
       "Index(['ID', 'Name', 'Macroarea', 'Latitude', 'Longitude', 'Glottocode',\n",
       "       'ISO639P3code', 'Family', 'Subfamily', 'Genus', 'GenusIcon',\n",
       "       'ISO_codes', 'Samples_100', 'Samples_200', 'Country_ID', 'Source',\n",
       "       'Parent_ID'],\n",
       "      dtype='object')"
      ]
     },
     "execution_count": 151,
     "metadata": {},
     "output_type": "execute_result"
    }
   ],
   "source": [
    "df_wals_lngs.columns"
   ]
  },
  {
   "cell_type": "code",
   "execution_count": 152,
   "id": "cf815548",
   "metadata": {},
   "outputs": [
    {
     "data": {
      "text/plain": [
       "(958, 17)"
      ]
     },
     "execution_count": 152,
     "metadata": {},
     "output_type": "execute_result"
    }
   ],
   "source": [
    "df_wals_lngs[df_wals_lngs['ISO639P3code'] != df_wals_lngs['ISO_codes']].shape"
   ]
  },
  {
   "cell_type": "code",
   "execution_count": 153,
   "id": "ae32bed5",
   "metadata": {},
   "outputs": [
    {
     "name": "stderr",
     "output_type": "stream",
     "text": [
      "/var/folders/sw/69rs5xms5hv499zh5zwyxr5w0000gn/T/ipykernel_13627/1624894092.py:1: UserWarning: Boolean Series key will be reindexed to match DataFrame index.\n",
      "  df_wg[df_wg['ISO639P3code'].notna()][df_wg['ISO_codes'].isna()]\n"
     ]
    },
    {
     "data": {
      "text/html": [
       "<div>\n",
       "<style scoped>\n",
       "    .dataframe tbody tr th:only-of-type {\n",
       "        vertical-align: middle;\n",
       "    }\n",
       "\n",
       "    .dataframe tbody tr th {\n",
       "        vertical-align: top;\n",
       "    }\n",
       "\n",
       "    .dataframe thead th {\n",
       "        text-align: right;\n",
       "    }\n",
       "</style>\n",
       "<table border=\"1\" class=\"dataframe\">\n",
       "  <thead>\n",
       "    <tr style=\"text-align: right;\">\n",
       "      <th></th>\n",
       "      <th>ID</th>\n",
       "      <th>Name</th>\n",
       "      <th>Macroarea</th>\n",
       "      <th>Latitude</th>\n",
       "      <th>Longitude</th>\n",
       "      <th>Glottocode</th>\n",
       "      <th>ISO639P3code</th>\n",
       "      <th>Family</th>\n",
       "      <th>Subfamily</th>\n",
       "      <th>Genus</th>\n",
       "      <th>GenusIcon</th>\n",
       "      <th>ISO_codes</th>\n",
       "      <th>Samples_100</th>\n",
       "      <th>Samples_200</th>\n",
       "      <th>Country_ID</th>\n",
       "      <th>Source</th>\n",
       "      <th>Parent_ID</th>\n",
       "    </tr>\n",
       "  </thead>\n",
       "  <tbody>\n",
       "  </tbody>\n",
       "</table>\n",
       "</div>"
      ],
      "text/plain": [
       "Empty DataFrame\n",
       "Columns: [ID, Name, Macroarea, Latitude, Longitude, Glottocode, ISO639P3code, Family, Subfamily, Genus, GenusIcon, ISO_codes, Samples_100, Samples_200, Country_ID, Source, Parent_ID]\n",
       "Index: []"
      ]
     },
     "execution_count": 153,
     "metadata": {},
     "output_type": "execute_result"
    }
   ],
   "source": [
    "df_wals_lngs[df_wals_lngs['ISO639P3code'].notna()][df_wals_lngs['ISO_codes'].isna()]"
   ]
  },
  {
   "cell_type": "code",
   "execution_count": 154,
   "id": "6a35dc74",
   "metadata": {},
   "outputs": [],
   "source": [
    "df_wals_lngs = df_wals_lngs.drop(['GenusIcon'], axis=1)"
   ]
  },
  {
   "cell_type": "code",
   "execution_count": 155,
   "id": "18efc73b",
   "metadata": {},
   "outputs": [
    {
     "data": {
      "text/plain": [
       "(3501, 16)"
      ]
     },
     "execution_count": 155,
     "metadata": {},
     "output_type": "execute_result"
    }
   ],
   "source": [
    "df_wals_lngs.shape"
   ]
  },
  {
   "cell_type": "code",
   "execution_count": 156,
   "id": "0b487941",
   "metadata": {},
   "outputs": [],
   "source": [
    "df_wals_lngs.rename(columns={'ISO639P3code': 'lgcode_iso3'}, inplace=True)"
   ]
  },
  {
   "cell_type": "markdown",
   "id": "f2178d32",
   "metadata": {},
   "source": [
    "# WALS (+ Glot) + Source"
   ]
  },
  {
   "cell_type": "code",
   "execution_count": 400,
   "id": "74d8efff",
   "metadata": {},
   "outputs": [],
   "source": [
    "df_wals_maxsource = df_wals_lngs.merge(only_max, on='lgcode_iso3', how='inner')"
   ]
  },
  {
   "cell_type": "code",
   "execution_count": 158,
   "id": "76025eb7",
   "metadata": {},
   "outputs": [
    {
     "data": {
      "text/plain": [
       "Macroarea\n",
       "Africa           116\n",
       "Australia         36\n",
       "Eurasia           85\n",
       "North America     97\n",
       "Papunesia        140\n",
       "South America     82\n",
       "Name: Genus, dtype: int64"
      ]
     },
     "execution_count": 158,
     "metadata": {},
     "output_type": "execute_result"
    }
   ],
   "source": [
    "cs = df_wals_maxsource.groupby('Macroarea')['Genus'].nunique()\n",
    "cs"
   ]
  },
  {
   "cell_type": "code",
   "execution_count": 159,
   "id": "3e6df79a",
   "metadata": {},
   "outputs": [
    {
     "data": {
      "text/plain": [
       "556"
      ]
     },
     "execution_count": 159,
     "metadata": {},
     "output_type": "execute_result"
    }
   ],
   "source": [
    "sum(cs)"
   ]
  },
  {
   "cell_type": "code",
   "execution_count": 160,
   "id": "e7a8c419",
   "metadata": {
    "scrolled": true
   },
   "outputs": [
    {
     "data": {
      "text/plain": [
       "Macroarea\n",
       "Africa           0.935484\n",
       "Australia        0.947368\n",
       "Eurasia          0.977011\n",
       "North America    0.915094\n",
       "Papunesia        0.848485\n",
       "South America    0.745455\n",
       "Name: Genus, dtype: float64"
      ]
     },
     "execution_count": 160,
     "metadata": {},
     "output_type": "execute_result"
    }
   ],
   "source": [
    "cs / gs"
   ]
  },
  {
   "cell_type": "code",
   "execution_count": 161,
   "id": "86d05210",
   "metadata": {},
   "outputs": [],
   "source": [
    "max_per = min(cs/gs)\n",
    "max_lgs = np.floor(gs * max_per)"
   ]
  },
  {
   "cell_type": "code",
   "execution_count": 162,
   "id": "8cb3ba0f",
   "metadata": {
    "scrolled": true
   },
   "outputs": [
    {
     "name": "stdout",
     "output_type": "stream",
     "text": [
      "468.0\n"
     ]
    },
    {
     "data": {
      "text/plain": [
       "Macroarea\n",
       "Africa            92.0\n",
       "Australia         28.0\n",
       "Eurasia           64.0\n",
       "North America     79.0\n",
       "Papunesia        123.0\n",
       "South America     82.0\n",
       "Name: Genus, dtype: float64"
      ]
     },
     "execution_count": 162,
     "metadata": {},
     "output_type": "execute_result"
    }
   ],
   "source": [
    "print(sum(max_lgs))\n",
    "max_lgs"
   ]
  },
  {
   "cell_type": "code",
   "execution_count": 165,
   "id": "fb1f9152",
   "metadata": {},
   "outputs": [
    {
     "data": {
      "text/plain": [
       "{'Africa': 59.0,\n",
       " 'Australia': 18.0,\n",
       " 'Eurasia': 41.0,\n",
       " 'North America': 50.0,\n",
       " 'Papunesia': 78.0,\n",
       " 'South America': 52.0}"
      ]
     },
     "execution_count": 165,
     "metadata": {},
     "output_type": "execute_result"
    }
   ],
   "source": [
    "sample_size = 300\n",
    "macroarea_numlg300 = dict(np.floor(gs * sample_size / sum(gs)))\n",
    "macroarea_numlg300"
   ]
  },
  {
   "cell_type": "code",
   "execution_count": 166,
   "id": "bc52b898",
   "metadata": {},
   "outputs": [
    {
     "data": {
      "text/plain": [
       "298"
      ]
     },
     "execution_count": 166,
     "metadata": {},
     "output_type": "execute_result"
    }
   ],
   "source": [
    "sum(marcoarea_numlg300.values())"
   ]
  },
  {
   "cell_type": "markdown",
   "id": "945f0eb9",
   "metadata": {},
   "source": [
    "# Sample 300 (family balanced)"
   ]
  },
  {
   "cell_type": "code",
   "execution_count": 401,
   "id": "3a207234",
   "metadata": {},
   "outputs": [],
   "source": [
    "def get_families_lists(one_from_genus):\n",
    "    families = one_from_genus.sort_values(by=['pages_sum'], ascending=False)['Family'].drop_duplicates().values\n",
    "    families_list = []\n",
    "    for f in families:\n",
    "        f_df = one_from_genus[one_from_genus['Family'] == f].sort_values(by=['pages_sum'], ascending=False)\n",
    "        families_list.append(f_df.values.tolist())\n",
    "    fanilies_list = sorted(families_list, key=lambda x: x[0][19], reverse=False)\n",
    "    return families_list"
   ]
  },
  {
   "cell_type": "code",
   "execution_count": 402,
   "id": "a96a0a04",
   "metadata": {},
   "outputs": [],
   "source": [
    "one_from_genus = df_wals_maxsource.groupby(by='Genus').apply(lambda g: g[g['pages_sum'] == g['pages_sum'].max()])\n",
    "one_from_genus = one_from_genus.drop_duplicates(subset=['lgcode_iso3'], keep='last')\n",
    "\n",
    "lngs_all = {}\n",
    "for macroarea in macroarea_numlg300:\n",
    "    max_lgs = int(macroarea_numlg300[macroarea])\n",
    "    macroarea_df = one_from_genus[one_from_genus['Macroarea'] == macroarea]\n",
    "    lngs = []\n",
    "    families_list = get_families_lists(macroarea_df)\n",
    "    while len(lngs) != max_lgs:\n",
    "        for family in families_list:\n",
    "            if family:\n",
    "                lng = family.pop(0)\n",
    "                lngs.append(lng)\n",
    "                if len(lngs) == max_lgs:\n",
    "                    break\n",
    "    lngs_all[macroarea] = lngs"
   ]
  },
  {
   "cell_type": "code",
   "execution_count": 405,
   "id": "86ad83d8",
   "metadata": {},
   "outputs": [
    {
     "data": {
      "text/plain": [
       "298"
      ]
     },
     "execution_count": 405,
     "metadata": {},
     "output_type": "execute_result"
    }
   ],
   "source": [
    "len([l for f in lngs_all.values() for l in f])"
   ]
  },
  {
   "cell_type": "code",
   "execution_count": 406,
   "id": "2677dd4a",
   "metadata": {},
   "outputs": [],
   "source": [
    "df_sample_fixed = pd.DataFrame([l for f in lngs_all.values() for l in f], columns=df_wals_maxsource.columns)"
   ]
  },
  {
   "cell_type": "code",
   "execution_count": 267,
   "id": "a6a6bbe4",
   "metadata": {},
   "outputs": [],
   "source": [
    "cols_order = ['lgcode_iso3', 'Name', 'Family', 'Genus', 'Macroarea', \n",
    "              'title', 'author', 'year', 'pages_sum', 'inlg_iso3', 'hhtype', 'src',\n",
    "              'isbn',  'url', 'guldemann_location',  'doi', \n",
    "              'Latitude', 'Longitude', 'Glottocode', 'ID', \n",
    "              'Country_ID', 'Source', 'Subfamily', 'Parent_ID',\n",
    "           ]"
   ]
  },
  {
   "cell_type": "code",
   "execution_count": 407,
   "id": "106f4846",
   "metadata": {},
   "outputs": [],
   "source": [
    "df_sample_fixed = df_sample_fixed[cols_order]"
   ]
  },
  {
   "cell_type": "code",
   "execution_count": 408,
   "id": "fee80d4e",
   "metadata": {},
   "outputs": [],
   "source": [
    "df_sample_fixed_gr = df_sample_fixed.groupby(['Macroarea', 'Family'])['Genus'].count()"
   ]
  },
  {
   "cell_type": "code",
   "execution_count": 410,
   "id": "f8670dea",
   "metadata": {},
   "outputs": [
    {
     "data": {
      "text/plain": [
       "Family\n",
       "Bunuban             1\n",
       "Gaagudju            1\n",
       "Garrwan             1\n",
       "Gunwinyguan         1\n",
       "Iwaidjan            1\n",
       "Jarrakan            1\n",
       "Mangarrayi-Maran    1\n",
       "Mangrida            1\n",
       "Mirndi              1\n",
       "Nyulnyulan          1\n",
       "Pama-Nyungan        1\n",
       "Southern Daly       1\n",
       "Tangkic             1\n",
       "Tiwian              1\n",
       "Wagiman             1\n",
       "Western Daly        1\n",
       "Worrorran           1\n",
       "Yangmanic           1\n",
       "Name: Genus, dtype: int64"
      ]
     },
     "execution_count": 410,
     "metadata": {},
     "output_type": "execute_result"
    }
   ],
   "source": [
    "df_sample_fixed_gr['Australia']"
   ]
  },
  {
   "cell_type": "code",
   "execution_count": 411,
   "id": "4ec7bac6",
   "metadata": {},
   "outputs": [
    {
     "data": {
      "text/plain": [
       "Family\n",
       "Afro-Asiatic       8\n",
       "Austronesian       1\n",
       "Bangime            1\n",
       "Berta              1\n",
       "Central Sudanic    6\n",
       "Dogon              1\n",
       "Eastern Sudanic    8\n",
       "Fur                1\n",
       "Gumuz              1\n",
       "Hadza              1\n",
       "Ijoid              1\n",
       "Kadu               1\n",
       "Khoe-Kwadi         1\n",
       "Koman              1\n",
       "Kordofanian        3\n",
       "Kunama             1\n",
       "Kxa                2\n",
       "Laal               1\n",
       "Maban              1\n",
       "Mande              2\n",
       "Niger-Congo        9\n",
       "Saharan            2\n",
       "Sandawe            1\n",
       "Shabo              1\n",
       "Siamou             1\n",
       "Songhay            1\n",
       "Tu                 1\n",
       "Name: Genus, dtype: int64"
      ]
     },
     "execution_count": 411,
     "metadata": {},
     "output_type": "execute_result"
    }
   ],
   "source": [
    "df_sample_fixed_gr['Africa']"
   ]
  },
  {
   "cell_type": "code",
   "execution_count": 412,
   "id": "70cee2c7",
   "metadata": {},
   "outputs": [
    {
     "data": {
      "text/plain": [
       "Family\n",
       "Alacalufan          1\n",
       "Andoke              1\n",
       "Arauan              1\n",
       "Araucanian          1\n",
       "Arawakan            1\n",
       "Aymaran             1\n",
       "Barbacoan           1\n",
       "Boran               1\n",
       "Bororoan            1\n",
       "Cacua-Nukak         1\n",
       "Cahuapanan          1\n",
       "Camsá               1\n",
       "Cariban             1\n",
       "Cayuvava            1\n",
       "Chapacura-Wanham    1\n",
       "Chibchan            1\n",
       "Choco               1\n",
       "Chonan              1\n",
       "Fulniô              1\n",
       "Guahiban            1\n",
       "Guaicuruan          1\n",
       "Hobitu-Cholon       1\n",
       "Itonama             1\n",
       "Jivaroan            1\n",
       "Kwaza               1\n",
       "Macro-Ge            1\n",
       "Mascoian            1\n",
       "Mochica             1\n",
       "Mosetenan           1\n",
       "Movima              1\n",
       "Mura                1\n",
       "Nadahup             1\n",
       "Nambikuaran         1\n",
       "Pano-Tacanan        1\n",
       "Peba-Yaguan         1\n",
       "Puquina             1\n",
       "Páezan              1\n",
       "Quechuan            1\n",
       "Sáliban             1\n",
       "Ticuna              1\n",
       "Trumai              1\n",
       "Tucanoan            1\n",
       "Tupian              1\n",
       "Urarina             1\n",
       "Uru-Chipaya         1\n",
       "Waorani             1\n",
       "Warao               1\n",
       "Witotoan            1\n",
       "Yanomam             1\n",
       "Yuracare            1\n",
       "Yámana              1\n",
       "Zaparoan            1\n",
       "Name: Genus, dtype: int64"
      ]
     },
     "execution_count": 412,
     "metadata": {},
     "output_type": "execute_result"
    }
   ],
   "source": [
    "df_sample_fixed_gr['South America']"
   ]
  },
  {
   "cell_type": "code",
   "execution_count": 413,
   "id": "bc74236b",
   "metadata": {},
   "outputs": [
    {
     "data": {
      "text/plain": [
       "Family\n",
       "Algic           2\n",
       "Atakapa         1\n",
       "Caddoan         1\n",
       "Chibchan        1\n",
       "Chimakuan       1\n",
       "Chitimacha      1\n",
       "Chumash         1\n",
       "Coahuiltecan    1\n",
       "Eskimo-Aleut    2\n",
       "Esselen         1\n",
       "Haida           1\n",
       "Hokan           1\n",
       "Iroquoian       1\n",
       "Kalapuyan       1\n",
       "Karankawa       1\n",
       "Keresan         1\n",
       "Kiowa-Tanoan    1\n",
       "Kutenai         1\n",
       "Mayan           1\n",
       "Misumalpan      1\n",
       "Mixe-Zoque      1\n",
       "Muskogean       1\n",
       "Na-Dene         2\n",
       "Natchez         1\n",
       "Oregon Coast    1\n",
       "Oto-Manguean    2\n",
       "Penutian        1\n",
       "Salishan        2\n",
       "Siouan          2\n",
       "Takelma         1\n",
       "Tarascan        1\n",
       "Timucua         1\n",
       "Tol             1\n",
       "Tonkawa         1\n",
       "Totonacan       1\n",
       "Tsimshianic     1\n",
       "Tunica          1\n",
       "Uto-Aztecan     2\n",
       "Wakashan        1\n",
       "Wappo-Yukian    1\n",
       "Washo           1\n",
       "Yuchi           1\n",
       "Zuni            1\n",
       "Name: Genus, dtype: int64"
      ]
     },
     "execution_count": 413,
     "metadata": {},
     "output_type": "execute_result"
    }
   ],
   "source": [
    "df_sample_fixed_gr['North America']"
   ]
  },
  {
   "cell_type": "code",
   "execution_count": 414,
   "id": "25f76bff",
   "metadata": {},
   "outputs": [
    {
     "data": {
      "text/plain": [
       "Family\n",
       "Abun                     1\n",
       "Asmat-Kamrau Bay         1\n",
       "Austronesian             6\n",
       "Baibai-Fas               1\n",
       "Baining                  1\n",
       "Border                   1\n",
       "Duna-Bogaya              1\n",
       "East Bird's Head         1\n",
       "Eastern Trans-Fly        1\n",
       "Eleman                   1\n",
       "Geelvink Bay             1\n",
       "Greater West Bomberai    3\n",
       "Hatim-Mansim             1\n",
       "Kamula-Elevala           1\n",
       "Keram                    1\n",
       "Kolopom                  1\n",
       "Kuot                     1\n",
       "Kwomtari                 1\n",
       "Lakes Plain              2\n",
       "Left May                 1\n",
       "Mairasic                 1\n",
       "Maybrat                  1\n",
       "Moraori                  1\n",
       "Mpur                     1\n",
       "Nimboran                 1\n",
       "North Bougainville       1\n",
       "North Halmaheran         1\n",
       "Pauwasi                  1\n",
       "Ramu-Lower Sepik         4\n",
       "Senagi                   1\n",
       "Sentanic                 1\n",
       "Sepik                    5\n",
       "Skou                     3\n",
       "Solomons East Papuan     3\n",
       "South Bird's Head        1\n",
       "South Bougainville       1\n",
       "Sulka                    1\n",
       "Taiap                    1\n",
       "Tate                     1\n",
       "Taulil                   1\n",
       "Teberan-Pawaian          1\n",
       "Tor-Kwerba               3\n",
       "Torricelli               5\n",
       "Trans-New Guinea         5\n",
       "West Bird's Head         1\n",
       "Yale                     1\n",
       "Yam                      1\n",
       "Yawa                     1\n",
       "Yele                     1\n",
       "Name: Genus, dtype: int64"
      ]
     },
     "execution_count": 414,
     "metadata": {},
     "output_type": "execute_result"
    }
   ],
   "source": [
    "df_sample_fixed_gr['Papunesia']"
   ]
  },
  {
   "cell_type": "code",
   "execution_count": 370,
   "id": "2311fff5",
   "metadata": {},
   "outputs": [
    {
     "data": {
      "text/plain": [
       "Family\n",
       "Afro-Asiatic           1\n",
       "Ainu                   1\n",
       "Altaic                 3\n",
       "Austro-Asiatic         2\n",
       "Austronesian           1\n",
       "Basque                 1\n",
       "Burushaski             1\n",
       "Chukotko-Kamchatkan    2\n",
       "Dravidian              1\n",
       "Eskimo-Aleut           1\n",
       "Great Andamanese       1\n",
       "Hmong-Mien             2\n",
       "Indo-European          3\n",
       "Japanese               1\n",
       "Kartvelian             1\n",
       "Korean                 1\n",
       "Kusunda                1\n",
       "Nahali                 1\n",
       "Nakh-Daghestanian      3\n",
       "Nivkh                  1\n",
       "Northwest Caucasian    1\n",
       "Sino-Tibetan           3\n",
       "South Andamanese       1\n",
       "Tai-Kadai              2\n",
       "Uralic                 3\n",
       "Yeniseian              1\n",
       "Yukaghir               1\n",
       "Name: Genus, dtype: int64"
      ]
     },
     "execution_count": 370,
     "metadata": {},
     "output_type": "execute_result"
    }
   ],
   "source": [
    "df_sample_fixed_gr['Eurasia']"
   ]
  },
  {
   "cell_type": "code",
   "execution_count": 416,
   "id": "17d5dd93",
   "metadata": {},
   "outputs": [
    {
     "data": {
      "text/plain": [
       "298"
      ]
     },
     "execution_count": 416,
     "metadata": {},
     "output_type": "execute_result"
    }
   ],
   "source": [
    "df_sample_fixed['Genus'].nunique()#.value_counts()"
   ]
  },
  {
   "cell_type": "code",
   "execution_count": 434,
   "id": "aeace2f3",
   "metadata": {},
   "outputs": [
    {
     "data": {
      "text/plain": [
       "298"
      ]
     },
     "execution_count": 434,
     "metadata": {},
     "output_type": "execute_result"
    }
   ],
   "source": [
    "df_sample_fixed['Name'].nunique()"
   ]
  },
  {
   "cell_type": "code",
   "execution_count": 417,
   "id": "cd96bc83",
   "metadata": {},
   "outputs": [],
   "source": [
    "#df_sample_fixed.to_csv('./sample300_3inlg_fixed.csv', index=False)"
   ]
  },
  {
   "cell_type": "markdown",
   "id": "4e543ff1",
   "metadata": {},
   "source": [
    "# Adding info from WALS Chapters concerning gender"
   ]
  },
  {
   "cell_type": "code",
   "execution_count": 419,
   "id": "c1f3d160",
   "metadata": {},
   "outputs": [],
   "source": [
    "maps = [('./Maps/30A_number_of_genders.tsv', 'WALS_Ngen'),\n",
    "       ('./Maps/31A_sex_based_non_sex_based.tsv', 'WALS_sex_based'), \n",
    "       ('./Maps/32A_systems_of_gender_assignment.tsv', 'WALS_assignment'),\n",
    "       ('./Maps/44A_gender_disctinc_in_indep_pers_pron.tsv', 'WALS_pronouns')]"
   ]
  },
  {
   "cell_type": "code",
   "execution_count": 430,
   "id": "f8994ec6",
   "metadata": {},
   "outputs": [],
   "source": [
    "df_wals_iso = pd.read_csv(wals_lngs_url).loc[:2661, :]\n",
    "df_wals_iso = df_wals_iso[['ID', 'ISO639P3code']]\n",
    "df_wals_iso.rename(columns={'ISO639P3code': 'lgcode_iso3', 'ID': 'wals code'}, inplace=True)"
   ]
  },
  {
   "cell_type": "code",
   "execution_count": 431,
   "id": "34f4d60b",
   "metadata": {},
   "outputs": [],
   "source": [
    "for m in maps:\n",
    "    df_map = pd.read_csv(m[0], sep='\\t')\n",
    "    df_map = df_map[['wals code', 'description']]\n",
    "    df_map.rename(columns={'description': m[1]}, inplace=True)\n",
    "    df_map = df_map.merge(df_wals_iso, on='wals code', how='left').drop(['wals code'], axis=1)\n",
    "    df_sample_fixed = df_sample_fixed.merge(df_map, on='lgcode_iso3', how='left')"
   ]
  },
  {
   "cell_type": "code",
   "execution_count": 435,
   "id": "75dde81e",
   "metadata": {},
   "outputs": [],
   "source": [
    "#df_sample_fixed.to_csv('./sample300_3inlg_fixed_wals_features.csv', index=False)"
   ]
  },
  {
   "cell_type": "markdown",
   "id": "b76a8a99",
   "metadata": {},
   "source": [
    "# Adding info from Grambank\n",
    "\n",
    "For parsing features  use `grambank_parser.py`. from https://github.com/ancheveleva/grambank_parser\n",
    "\n",
    "Usage example:\n",
    "\n",
    "`python3 grambank_parser.py GB314,GB315 save_file_path values_path languages_path parameters_path`"
   ]
  },
  {
   "cell_type": "code",
   "execution_count": 97,
   "id": "9eb862e3",
   "metadata": {},
   "outputs": [],
   "source": [
    "sample = pd.read_csv('./sample300_3inlg_fixed_wals_features.csv')"
   ]
  },
  {
   "cell_type": "code",
   "execution_count": 98,
   "id": "612e1c4c",
   "metadata": {},
   "outputs": [],
   "source": [
    "gb = pd.read_csv('./grambank/gender_gb.csv')"
   ]
  },
  {
   "cell_type": "code",
   "execution_count": 99,
   "id": "3accd34a",
   "metadata": {},
   "outputs": [
    {
     "data": {
      "text/plain": [
       "Index(['lgcode_iso3', 'Name', 'Family', 'Genus', 'Macroarea', 'title',\n",
       "       'author', 'year', 'pages_sum', 'inlg_iso3', 'hhtype', 'src', 'isbn',\n",
       "       'url', 'guldemann_location', 'doi', 'Latitude', 'Longitude',\n",
       "       'Glottocode', 'ID', 'Country_ID', 'Source', 'Subfamily', 'Parent_ID',\n",
       "       'WALS_Ngen', 'WALS_sex_based', 'WALS_assignment', 'WALS_pronouns'],\n",
       "      dtype='object')"
      ]
     },
     "execution_count": 99,
     "metadata": {},
     "output_type": "execute_result"
    }
   ],
   "source": [
    "sample.columns"
   ]
  },
  {
   "cell_type": "code",
   "execution_count": 100,
   "id": "bc384935",
   "metadata": {},
   "outputs": [
    {
     "data": {
      "text/plain": [
       "0"
      ]
     },
     "execution_count": 100,
     "metadata": {},
     "output_type": "execute_result"
    }
   ],
   "source": [
    "sum(gb['ISO639P3code'].notna())"
   ]
  },
  {
   "cell_type": "code",
   "execution_count": 101,
   "id": "e60418f6",
   "metadata": {},
   "outputs": [
    {
     "data": {
      "text/plain": [
       "0"
      ]
     },
     "execution_count": 101,
     "metadata": {},
     "output_type": "execute_result"
    }
   ],
   "source": [
    "sum(gb['Glottocode'].isna())"
   ]
  },
  {
   "cell_type": "code",
   "execution_count": 102,
   "id": "51bbe82b",
   "metadata": {},
   "outputs": [],
   "source": [
    "features = {'GB030': '3rd_pron',\n",
    " 'GB051': 'sex',\n",
    " 'GB053': 'animacy',\n",
    " 'GB170': 'prop_words',\n",
    " 'GB171': 'demonstratives',\n",
    " 'GB172': 'articles',\n",
    " 'GB192': 'phonetics',\n",
    " 'GB196': '2nd_pron',\n",
    " 'GB197': '1st_pron',\n",
    " 'GB198': 'numerals',\n",
    " 'GB321': 'nor_sem_nor_phon'}"
   ]
  },
  {
   "cell_type": "code",
   "execution_count": 103,
   "id": "900d2a0c",
   "metadata": {},
   "outputs": [
    {
     "data": {
      "text/plain": [
       "Index(['ID', 'Language_ID', 'Parameter_ID', 'Value', 'Code_ID', 'Comment',\n",
       "       'Source', 'Source_comment', 'Coders', 'Language_Name', 'Macroarea',\n",
       "       'Latitude', 'Longitude', 'Glottocode', 'ISO639P3code', 'provenance',\n",
       "       'Family_name', 'Family_level_ID', 'Language_level_ID', 'level',\n",
       "       'lineage', 'Parameter_Name', 'Description', 'ColumnSpec', 'Patrons',\n",
       "       'Grambank_ID_desc', 'Boundness', 'Flexivity', 'Gender_or_Noun_Class',\n",
       "       'Locus_of_Marking', 'Word_Order', 'Informativity'],\n",
       "      dtype='object')"
      ]
     },
     "execution_count": 103,
     "metadata": {},
     "output_type": "execute_result"
    }
   ],
   "source": [
    "gb.columns"
   ]
  },
  {
   "cell_type": "code",
   "execution_count": 107,
   "id": "8767137c",
   "metadata": {},
   "outputs": [
    {
     "data": {
      "text/html": [
       "<div>\n",
       "<style scoped>\n",
       "    .dataframe tbody tr th:only-of-type {\n",
       "        vertical-align: middle;\n",
       "    }\n",
       "\n",
       "    .dataframe tbody tr th {\n",
       "        vertical-align: top;\n",
       "    }\n",
       "\n",
       "    .dataframe thead th {\n",
       "        text-align: right;\n",
       "    }\n",
       "</style>\n",
       "<table border=\"1\" class=\"dataframe\">\n",
       "  <thead>\n",
       "    <tr style=\"text-align: right;\">\n",
       "      <th></th>\n",
       "      <th>Language_ID</th>\n",
       "      <th>Value</th>\n",
       "      <th>Comment</th>\n",
       "      <th>Source</th>\n",
       "      <th>Source_comment</th>\n",
       "    </tr>\n",
       "  </thead>\n",
       "  <tbody>\n",
       "    <tr>\n",
       "      <th>0</th>\n",
       "      <td>abad1241</td>\n",
       "      <td>0</td>\n",
       "      <td>NaN</td>\n",
       "      <td>s_OaPaul_Gabadi[8]</td>\n",
       "      <td>Oa &amp; Paul 2013:8</td>\n",
       "    </tr>\n",
       "    <tr>\n",
       "      <th>1</th>\n",
       "      <td>abad1241</td>\n",
       "      <td>0</td>\n",
       "      <td>Passim</td>\n",
       "      <td>s_OaPaul_Gabadi[1-39]</td>\n",
       "      <td>Oa &amp; Paul 2013:1-39</td>\n",
       "    </tr>\n",
       "    <tr>\n",
       "      <th>2</th>\n",
       "      <td>abad1241</td>\n",
       "      <td>0</td>\n",
       "      <td>Passim</td>\n",
       "      <td>s_OaPaul_Gabadi[1-39]</td>\n",
       "      <td>Oa &amp; Paul 2013:1-39</td>\n",
       "    </tr>\n",
       "    <tr>\n",
       "      <th>3</th>\n",
       "      <td>abad1241</td>\n",
       "      <td>0</td>\n",
       "      <td>NaN</td>\n",
       "      <td>s_OaPaul_Gabadi[7-20]</td>\n",
       "      <td>Oa &amp; Paul 2013:7-20</td>\n",
       "    </tr>\n",
       "    <tr>\n",
       "      <th>4</th>\n",
       "      <td>abad1241</td>\n",
       "      <td>0</td>\n",
       "      <td>NaN</td>\n",
       "      <td>s_OaPaul_Gabadi[7-20]</td>\n",
       "      <td>Oa &amp; Paul 2013:7-20</td>\n",
       "    </tr>\n",
       "    <tr>\n",
       "      <th>...</th>\n",
       "      <td>...</td>\n",
       "      <td>...</td>\n",
       "      <td>...</td>\n",
       "      <td>...</td>\n",
       "      <td>...</td>\n",
       "    </tr>\n",
       "    <tr>\n",
       "      <th>24931</th>\n",
       "      <td>zuni1245</td>\n",
       "      <td>1</td>\n",
       "      <td>Zuni has 3 noun classes - The first is overwhe...</td>\n",
       "      <td>s_Newman_Zuni_1965[55-59]</td>\n",
       "      <td>Newman (1965: 55-59)</td>\n",
       "    </tr>\n",
       "    <tr>\n",
       "      <th>24932</th>\n",
       "      <td>zuni1245</td>\n",
       "      <td>0</td>\n",
       "      <td>NaN</td>\n",
       "      <td>g_Nichols_Zuni;s_Newman_Zuni_1965</td>\n",
       "      <td>Nichols (1997), Newman (1965)</td>\n",
       "    </tr>\n",
       "    <tr>\n",
       "      <th>24933</th>\n",
       "      <td>zuni1245</td>\n",
       "      <td>0</td>\n",
       "      <td>NaN</td>\n",
       "      <td>g_Nichols_Zuni;s_Newman_Zuni_1965</td>\n",
       "      <td>Nichols (1997), Newman (1965)</td>\n",
       "    </tr>\n",
       "    <tr>\n",
       "      <th>24934</th>\n",
       "      <td>zuni1245</td>\n",
       "      <td>0</td>\n",
       "      <td>Not mentioned, nor expressed in any example</td>\n",
       "      <td>g_Nichols_Zuni;s_Newman_Zuni_1965</td>\n",
       "      <td>Nichols (1997), Newman (1965)</td>\n",
       "    </tr>\n",
       "    <tr>\n",
       "      <th>24935</th>\n",
       "      <td>zuni1245</td>\n",
       "      <td>1</td>\n",
       "      <td>See above - the primary noun class in Zuni con...</td>\n",
       "      <td>s_Newman_Zuni_1965[55-59]</td>\n",
       "      <td>Newman (1965: 55-59)</td>\n",
       "    </tr>\n",
       "  </tbody>\n",
       "</table>\n",
       "<p>24936 rows × 5 columns</p>\n",
       "</div>"
      ],
      "text/plain": [
       "      Language_ID Value                                            Comment  \\\n",
       "0        abad1241     0                                                NaN   \n",
       "1        abad1241     0                                             Passim   \n",
       "2        abad1241     0                                             Passim   \n",
       "3        abad1241     0                                                NaN   \n",
       "4        abad1241     0                                                NaN   \n",
       "...           ...   ...                                                ...   \n",
       "24931    zuni1245     1  Zuni has 3 noun classes - The first is overwhe...   \n",
       "24932    zuni1245     0                                                NaN   \n",
       "24933    zuni1245     0                                                NaN   \n",
       "24934    zuni1245     0        Not mentioned, nor expressed in any example   \n",
       "24935    zuni1245     1  See above - the primary noun class in Zuni con...   \n",
       "\n",
       "                                  Source                 Source_comment  \n",
       "0                     s_OaPaul_Gabadi[8]               Oa & Paul 2013:8  \n",
       "1                  s_OaPaul_Gabadi[1-39]            Oa & Paul 2013:1-39  \n",
       "2                  s_OaPaul_Gabadi[1-39]            Oa & Paul 2013:1-39  \n",
       "3                  s_OaPaul_Gabadi[7-20]            Oa & Paul 2013:7-20  \n",
       "4                  s_OaPaul_Gabadi[7-20]            Oa & Paul 2013:7-20  \n",
       "...                                  ...                            ...  \n",
       "24931          s_Newman_Zuni_1965[55-59]           Newman (1965: 55-59)  \n",
       "24932  g_Nichols_Zuni;s_Newman_Zuni_1965  Nichols (1997), Newman (1965)  \n",
       "24933  g_Nichols_Zuni;s_Newman_Zuni_1965  Nichols (1997), Newman (1965)  \n",
       "24934  g_Nichols_Zuni;s_Newman_Zuni_1965  Nichols (1997), Newman (1965)  \n",
       "24935          s_Newman_Zuni_1965[55-59]           Newman (1965: 55-59)  \n",
       "\n",
       "[24936 rows x 5 columns]"
      ]
     },
     "execution_count": 107,
     "metadata": {},
     "output_type": "execute_result"
    }
   ],
   "source": [
    "gb[['Language_ID', 'Value', 'Comment', 'Source', 'Source_comment']]"
   ]
  },
  {
   "cell_type": "code",
   "execution_count": 110,
   "id": "71fd5d1a",
   "metadata": {},
   "outputs": [
    {
     "data": {
      "text/plain": [
       "1.0    24936\n",
       "Name: Gender_or_Noun_Class, dtype: int64"
      ]
     },
     "execution_count": 110,
     "metadata": {},
     "output_type": "execute_result"
    }
   ],
   "source": [
    "gb['Gender_or_Noun_Class'].value_counts() \n",
    "# this column indicates whether the feature concerns topic of gender\n",
    "# not whether there is gender in a language"
   ]
  },
  {
   "cell_type": "code",
   "execution_count": 111,
   "id": "eaecd084",
   "metadata": {},
   "outputs": [
    {
     "data": {
      "text/plain": [
       "(24936, 32)"
      ]
     },
     "execution_count": 111,
     "metadata": {},
     "output_type": "execute_result"
    }
   ],
   "source": [
    "gb.shape"
   ]
  },
  {
   "cell_type": "code",
   "execution_count": 112,
   "id": "a40da342",
   "metadata": {},
   "outputs": [],
   "source": [
    "for f in features:\n",
    "    f_db = gb[gb['Parameter_ID'] == f][['Value', 'Glottocode', 'Comment', 'Source_comment']]\n",
    "    f_db = f_db.rename(columns={\n",
    "        'Value': f'{features[f]}_{f}',\n",
    "        'Comment': f'{features[f]}_{f}_comment', \n",
    "        'Source_comment': f'{features[f]}_{f}_source',\n",
    "                               })\n",
    "    sample = sample.merge(f_db, on='Glottocode', how='left')"
   ]
  },
  {
   "cell_type": "code",
   "execution_count": 114,
   "id": "f732d72c",
   "metadata": {},
   "outputs": [],
   "source": [
    "#sample.to_csv('./sample300_3inlg_fixed_wals_gb_features.csv', index=False)"
   ]
  },
  {
   "cell_type": "code",
   "execution_count": 3,
   "id": "20d4abbc",
   "metadata": {},
   "outputs": [],
   "source": [
    "sample = pd.read_csv('./sample300_3inlg_fixed_wals_gb_features.csv')"
   ]
  },
  {
   "cell_type": "code",
   "execution_count": 4,
   "id": "a7ce66ff",
   "metadata": {},
   "outputs": [
    {
     "data": {
      "text/plain": [
       "eng    260\n",
       "fra     26\n",
       "rus     12\n",
       "Name: inlg_iso3, dtype: int64"
      ]
     },
     "execution_count": 4,
     "metadata": {},
     "output_type": "execute_result"
    }
   ],
   "source": [
    "sample['inlg_iso3'].value_counts()"
   ]
  },
  {
   "cell_type": "code",
   "execution_count": 9,
   "id": "d802e0f6",
   "metadata": {},
   "outputs": [
    {
     "data": {
      "text/plain": [
       "Index(['lgcode_iso3', 'Name', 'Family', 'Genus', 'Macroarea', 'title',\n",
       "       'author', 'year', 'pages_sum', 'inlg_iso3', 'hhtype', 'src', 'isbn',\n",
       "       'url', 'guldemann_location', 'doi', 'Latitude', 'Longitude',\n",
       "       'Glottocode', 'ID', 'Country_ID', 'Source', 'Subfamily', 'Parent_ID',\n",
       "       'WALS_Ngen', 'WALS_sex_based', 'WALS_assignment', 'WALS_pronouns',\n",
       "       '3rd_pron_GB030', '3rd_pron_GB030_comment', '3rd_pron_GB030_source',\n",
       "       'sex_GB051', 'sex_GB051_comment', 'sex_GB051_source', 'animacy_GB053',\n",
       "       'animacy_GB053_comment', 'animacy_GB053_source', 'prop_words_GB170',\n",
       "       'prop_words_GB170_comment', 'prop_words_GB170_source',\n",
       "       'demonstratives_GB171', 'demonstratives_GB171_comment',\n",
       "       'demonstratives_GB171_source', 'articles_GB172',\n",
       "       'articles_GB172_comment', 'articles_GB172_source', 'phonetics_GB192',\n",
       "       'phonetics_GB192_comment', 'phonetics_GB192_source', '2nd_pron_GB196',\n",
       "       '2nd_pron_GB196_comment', '2nd_pron_GB196_source', '1st_pron_GB197',\n",
       "       '1st_pron_GB197_comment', '1st_pron_GB197_source', 'numerals_GB198',\n",
       "       'numerals_GB198_comment', 'numerals_GB198_source',\n",
       "       'nor_sem_nor_phon_GB321', 'nor_sem_nor_phon_GB321_comment',\n",
       "       'nor_sem_nor_phon_GB321_source'],\n",
       "      dtype='object')"
      ]
     },
     "execution_count": 9,
     "metadata": {},
     "output_type": "execute_result"
    }
   ],
   "source": [
    "sample.columns"
   ]
  },
  {
   "cell_type": "code",
   "execution_count": 13,
   "id": "82d2113c",
   "metadata": {},
   "outputs": [],
   "source": [
    "cols_pron = ['3rd_pron_GB030', '2nd_pron_GB196', '1st_pron_GB197']\n",
    "cols_assignment = ['sex_GB051', 'animacy_GB053', 'phonetics_GB192', 'nor_sem_nor_phon_GB321']\n",
    "cols_agreement = ['prop_words_GB170', 'demonstratives_GB171', 'articles_GB172', 'numerals_GB198']"
   ]
  },
  {
   "cell_type": "code",
   "execution_count": 37,
   "id": "6ddcabd6",
   "metadata": {},
   "outputs": [
    {
     "data": {
      "text/plain": [
       "Macroarea\n",
       "Africa           1\n",
       "South America    2\n",
       "Name: Genus, dtype: int64"
      ]
     },
     "execution_count": 37,
     "metadata": {},
     "output_type": "execute_result"
    }
   ],
   "source": [
    "sample[\n",
    "    (sample['sex_GB051'].isin(['0', '?'])) &\n",
    "    (sample['animacy_GB053'].isin(['0', '?'])) &\n",
    "    (sample['phonetics_GB192'].isin(['0', '?'])) &\n",
    "    (sample['nor_sem_nor_phon_GB321'].isin(['0', '?'])) &\n",
    "#     ~(sample['prop_words_GB170'].isin(['0', '?'])) &\n",
    "#     ~(sample['prop_words_GB170'].isna())\n",
    "    (sample['prop_words_GB170'] == '1')\n",
    "      ].groupby(['Macroarea']).count()['Genus']"
   ]
  },
  {
   "cell_type": "code",
   "execution_count": 38,
   "id": "668c957a",
   "metadata": {},
   "outputs": [
    {
     "data": {
      "text/plain": [
       "Macroarea\n",
       "Africa           8\n",
       "Australia        1\n",
       "Eurasia          2\n",
       "North America    7\n",
       "Papunesia        7\n",
       "South America    8\n",
       "Name: Genus, dtype: int64"
      ]
     },
     "execution_count": 38,
     "metadata": {},
     "output_type": "execute_result"
    }
   ],
   "source": [
    "sample[\n",
    "    ((sample['sex_GB051'] == '1') |\n",
    "    (sample['animacy_GB053'] == '1') |\n",
    "    (sample['phonetics_GB192'] == '1') |\n",
    "    (sample['nor_sem_nor_phon_GB321'] == '1')) &\n",
    "    (sample['prop_words_GB170'].isin(['0', '?'])) \n",
    "#     (sample['prop_words_GB170'].isna())\n",
    "#     (sample['prop_words_GB170'] == '1')\n",
    "      ].groupby(['Macroarea']).count()['Genus']"
   ]
  },
  {
   "cell_type": "code",
   "execution_count": 39,
   "id": "91e69815",
   "metadata": {},
   "outputs": [
    {
     "data": {
      "text/plain": [
       "Macroarea\n",
       "Africa           1\n",
       "Eurasia          2\n",
       "North America    1\n",
       "Papunesia        4\n",
       "South America    5\n",
       "Name: Genus, dtype: int64"
      ]
     },
     "execution_count": 39,
     "metadata": {},
     "output_type": "execute_result"
    }
   ],
   "source": [
    "sample[\n",
    "    (sample['sex_GB051'].isin(['0', '?'])) &\n",
    "    (sample['animacy_GB053'].isin(['0', '?'])) &\n",
    "    (sample['phonetics_GB192'].isin(['0', '?'])) &\n",
    "    (sample['nor_sem_nor_phon_GB321'].isin(['0', '?'])) &\n",
    "#     ~(sample['prop_words_GB170'].isin(['0', '?'])) &\n",
    "#     ~(sample['prop_words_GB170'].isna())\n",
    "    (sample['3rd_pron_GB030'] == '1')\n",
    "      ].groupby(['Macroarea']).count()['Genus']"
   ]
  },
  {
   "cell_type": "code",
   "execution_count": 44,
   "id": "06dccac4",
   "metadata": {},
   "outputs": [
    {
     "data": {
      "text/plain": [
       "Macroarea\n",
       "Africa           42\n",
       "Australia         9\n",
       "Eurasia          34\n",
       "North America    41\n",
       "Papunesia        51\n",
       "South America    36\n",
       "Name: Genus, dtype: int64"
      ]
     },
     "execution_count": 44,
     "metadata": {},
     "output_type": "execute_result"
    }
   ],
   "source": [
    "sample[\n",
    "    (sample['sex_GB051'].isin(['0', '?']) | sample['sex_GB051'].isna()) &\n",
    "    (sample['animacy_GB053'].isin(['0', '?']) | sample['animacy_GB053'].isna()) &\n",
    "    (sample['phonetics_GB192'].isin(['0', '?']) | sample['phonetics_GB192'].isna()) &\n",
    "    (sample['nor_sem_nor_phon_GB321'].isin(['0', '?']) | sample['nor_sem_nor_phon_GB321'].isna())\n",
    "#     ~(sample['prop_words_GB170'].isin(['0', '?'])) &\n",
    "#     ~(sample['prop_words_GB170'].isna())\n",
    "#     (sample['3rd_pron_GB030'] == '1')\n",
    "      ].groupby(['Macroarea']).count()['Genus']"
   ]
  },
  {
   "cell_type": "code",
   "execution_count": 45,
   "id": "d9e451a6",
   "metadata": {},
   "outputs": [
    {
     "data": {
      "text/plain": [
       "Macroarea\n",
       "Africa           15\n",
       "Australia         3\n",
       "Eurasia           7\n",
       "North America    11\n",
       "Papunesia        16\n",
       "South America     8\n",
       "Name: Genus, dtype: int64"
      ]
     },
     "execution_count": 45,
     "metadata": {},
     "output_type": "execute_result"
    }
   ],
   "source": [
    "sample[\n",
    "    (sample['sex_GB051'].isna()) &\n",
    "    (sample['animacy_GB053'].isna()) &\n",
    "    (sample['phonetics_GB192'].isna()) &\n",
    "    (sample['nor_sem_nor_phon_GB321'].isna())\n",
    "#     ~(sample['prop_words_GB170'].isin(['0', '?'])) &\n",
    "#     ~(sample['prop_words_GB170'].isna())\n",
    "#     (sample['3rd_pron_GB030'] == '1')\n",
    "      ].groupby(['Macroarea']).count()['Genus']"
   ]
  },
  {
   "cell_type": "code",
   "execution_count": 42,
   "id": "a9befeb2",
   "metadata": {},
   "outputs": [
    {
     "data": {
      "text/plain": [
       "Macroarea\n",
       "Africa           33\n",
       "Australia         5\n",
       "Eurasia          28\n",
       "North America    38\n",
       "Papunesia        36\n",
       "South America    35\n",
       "Name: Genus, dtype: int64"
      ]
     },
     "execution_count": 42,
     "metadata": {},
     "output_type": "execute_result"
    }
   ],
   "source": [
    "sample[\n",
    "    (sample['numerals_GB198'].isin(['0', '?']))\n",
    "      ].groupby(['Macroarea']).count()['Genus']"
   ]
  },
  {
   "cell_type": "code",
   "execution_count": 40,
   "id": "eeb2dcef",
   "metadata": {},
   "outputs": [
    {
     "data": {
      "text/plain": [
       "Macroarea\n",
       "Africa           17\n",
       "Australia        10\n",
       "Eurasia          10\n",
       "North America    11\n",
       "Papunesia        38\n",
       "South America     8\n",
       "Name: Genus, dtype: int64"
      ]
     },
     "execution_count": 40,
     "metadata": {},
     "output_type": "execute_result"
    }
   ],
   "source": [
    "sample[\n",
    "    (sample['demonstratives_GB171'].isna())\n",
    "      ].groupby(['Macroarea']).count()['Genus']"
   ]
  },
  {
   "cell_type": "code",
   "execution_count": 12,
   "id": "2f29cbbc",
   "metadata": {},
   "outputs": [
    {
     "data": {
      "text/plain": [
       "Index(['lgcode_iso3', 'Name', 'Family', 'Genus', 'Macroarea', 'title',\n",
       "       'author', 'year', 'pages_sum', 'inlg_iso3', 'hhtype', 'src', 'isbn',\n",
       "       'url', 'guldemann_location', 'doi', 'Latitude', 'Longitude',\n",
       "       'Glottocode', 'ID', 'Country_ID', 'Source', 'Subfamily', 'Parent_ID',\n",
       "       'WALS_Ngen', 'WALS_sex_based', 'WALS_assignment', 'WALS_pronouns',\n",
       "       '3rd_pron_GB030', '3rd_pron_GB030_comment', '3rd_pron_GB030_source',\n",
       "       'sex_GB051', 'sex_GB051_comment', 'sex_GB051_source', 'animacy_GB053',\n",
       "       'animacy_GB053_comment', 'animacy_GB053_source', 'prop_words_GB170',\n",
       "       'prop_words_GB170_comment', 'prop_words_GB170_source',\n",
       "       'demonstratives_GB171', 'demonstratives_GB171_comment',\n",
       "       'demonstratives_GB171_source', 'articles_GB172',\n",
       "       'articles_GB172_comment', 'articles_GB172_source', 'phonetics_GB192',\n",
       "       'phonetics_GB192_comment', 'phonetics_GB192_source', '2nd_pron_GB196',\n",
       "       '2nd_pron_GB196_comment', '2nd_pron_GB196_source', '1st_pron_GB197',\n",
       "       '1st_pron_GB197_comment', '1st_pron_GB197_source', 'numerals_GB198',\n",
       "       'numerals_GB198_comment', 'numerals_GB198_source',\n",
       "       'nor_sem_nor_phon_GB321', 'nor_sem_nor_phon_GB321_comment',\n",
       "       'nor_sem_nor_phon_GB321_source'],\n",
       "      dtype='object')"
      ]
     },
     "execution_count": 12,
     "metadata": {},
     "output_type": "execute_result"
    }
   ],
   "source": [
    "sample.columns"
   ]
  },
  {
   "cell_type": "markdown",
   "id": "f18103d1",
   "metadata": {},
   "source": [
    "# Archive"
   ]
  },
  {
   "cell_type": "markdown",
   "id": "16cd1f79",
   "metadata": {},
   "source": [
    "## Sample 300 (family unbalanced)"
   ]
  },
  {
   "cell_type": "code",
   "execution_count": 36,
   "id": "c79520fc",
   "metadata": {},
   "outputs": [],
   "source": [
    "#random_seed = 13\n",
    "\n",
    "df_sample = pd.DataFrame()\n",
    "for macroarea in macroarea_numlg300:\n",
    "    max_lgs = int(macroarea_numlg300[macroarea])\n",
    "    macroarea_df = df_wals_maxsource[df_wals_maxsource['Macroarea'] == macroarea]\n",
    "    one_from_genus = macroarea_df.groupby(by='Genus').apply(lambda g: g[g['pages_sum'] == g['pages_sum'].max()])\n",
    "    one_from_genus = one_from_genus.drop_duplicates(subset=['lgcode_iso3'], keep='last')\n",
    "    sample = one_from_genus.sort_values('pages_sum', ascending=False).head(max_lgs)\n",
    "    #sample = one_from_genus.sample(max_lgs, random_state=random_seed) #-- random\n",
    "    \n",
    "    df_sample = pd.concat([df_sample, sample])"
   ]
  },
  {
   "cell_type": "code",
   "execution_count": 37,
   "id": "f8fc3f5d",
   "metadata": {},
   "outputs": [],
   "source": [
    "df_sample.reset_index(drop=True, inplace=True)"
   ]
  },
  {
   "cell_type": "code",
   "execution_count": 39,
   "id": "9ee72a4c",
   "metadata": {},
   "outputs": [],
   "source": [
    "df_sample = df_sample[cols_order]"
   ]
  },
  {
   "cell_type": "code",
   "execution_count": 154,
   "id": "1513365b",
   "metadata": {},
   "outputs": [],
   "source": [
    "#df_sample.to_csv('./sample300_3inlg.csv', index=False)"
   ]
  },
  {
   "cell_type": "code",
   "execution_count": 67,
   "id": "1722df00",
   "metadata": {},
   "outputs": [],
   "source": [
    "df = pd.read_csv('./sample300_3inlg.csv')"
   ]
  },
  {
   "cell_type": "code",
   "execution_count": 68,
   "id": "817da7d1",
   "metadata": {},
   "outputs": [],
   "source": [
    "df_count_genus = df.groupby('Genus')['Name'].count()"
   ]
  },
  {
   "cell_type": "code",
   "execution_count": 69,
   "id": "6023c8a5",
   "metadata": {
    "scrolled": true
   },
   "outputs": [
    {
     "data": {
      "text/plain": [
       "Genus\n",
       "Antillean Arawakan    2\n",
       "Barito                2\n",
       "Eskimo                2\n",
       "Germanic              2\n",
       "Semitic               2\n",
       "Name: Name, dtype: int64"
      ]
     },
     "execution_count": 69,
     "metadata": {},
     "output_type": "execute_result"
    }
   ],
   "source": [
    "df_count_genus[df_count_genus != 1]"
   ]
  },
  {
   "cell_type": "code",
   "execution_count": 70,
   "id": "7c71dbd4",
   "metadata": {},
   "outputs": [],
   "source": [
    "df_gr_area_fam = df.groupby(['Macroarea', 'Family'])['Genus'].count()"
   ]
  },
  {
   "cell_type": "code",
   "execution_count": 71,
   "id": "3ae0fc51",
   "metadata": {},
   "outputs": [
    {
     "data": {
      "text/plain": [
       "Family\n",
       "Afro-Asiatic       10\n",
       "Austronesian        1\n",
       "Bangime             1\n",
       "Central Sudanic     3\n",
       "Dogon               1\n",
       "Eastern Sudanic     5\n",
       "Gumuz               1\n",
       "Indo-European       1\n",
       "Koman               1\n",
       "Maban               1\n",
       "Mande               2\n",
       "Niger-Congo        29\n",
       "Shabo               1\n",
       "Siamou              1\n",
       "Songhay             1\n",
       "Name: Genus, dtype: int64"
      ]
     },
     "execution_count": 71,
     "metadata": {},
     "output_type": "execute_result"
    }
   ],
   "source": [
    "df_gr_area_fam['Africa']"
   ]
  },
  {
   "cell_type": "code",
   "execution_count": 72,
   "id": "f2827725",
   "metadata": {},
   "outputs": [
    {
     "data": {
      "text/plain": [
       "Family\n",
       "Bunuban         1\n",
       "Gaagudju        1\n",
       "Gunwinyguan     4\n",
       "Mirndi          3\n",
       "Nyulnyulan      1\n",
       "Pama-Nyungan    4\n",
       "Tangkic         1\n",
       "Tiwian          1\n",
       "Worrorran       1\n",
       "Yangmanic       1\n",
       "Name: Genus, dtype: int64"
      ]
     },
     "execution_count": 72,
     "metadata": {},
     "output_type": "execute_result"
    }
   ],
   "source": [
    "df_gr_area_fam['Australia']"
   ]
  },
  {
   "cell_type": "code",
   "execution_count": 73,
   "id": "c9637a8c",
   "metadata": {},
   "outputs": [
    {
     "data": {
      "text/plain": [
       "Family\n",
       "Alacalufan          1\n",
       "Andoke              1\n",
       "Arauan              1\n",
       "Araucanian          1\n",
       "Arawakan            5\n",
       "Aymaran             1\n",
       "Barbacoan           1\n",
       "Boran               1\n",
       "Cacua-Nukak         1\n",
       "Camsá               1\n",
       "Cariban             1\n",
       "Chapacura-Wanham    1\n",
       "Chibchan            1\n",
       "Choco               1\n",
       "Chonan              1\n",
       "Guahiban            1\n",
       "Guaicuruan          2\n",
       "Hobitu-Cholon       1\n",
       "Jivaroan            1\n",
       "Kwaza               1\n",
       "Macro-Ge            4\n",
       "Mascoian            1\n",
       "Mosetenan           1\n",
       "Movima              1\n",
       "Nadahup             1\n",
       "Pano-Tacanan        2\n",
       "Peba-Yaguan         1\n",
       "Quechuan            1\n",
       "Sáliban             1\n",
       "Ticuna              1\n",
       "Trumai              1\n",
       "Tucanoan            1\n",
       "Tupian              5\n",
       "Urarina             1\n",
       "Uru-Chipaya         1\n",
       "Witotoan            1\n",
       "Yanomam             1\n",
       "Yuracare            1\n",
       "Zaparoan            1\n",
       "Name: Genus, dtype: int64"
      ]
     },
     "execution_count": 73,
     "metadata": {},
     "output_type": "execute_result"
    }
   ],
   "source": [
    "df_gr_area_fam['South America']"
   ]
  },
  {
   "cell_type": "code",
   "execution_count": 74,
   "id": "f3519952",
   "metadata": {},
   "outputs": [
    {
     "data": {
      "text/plain": [
       "Family\n",
       "Algic           2\n",
       "Arawakan        1\n",
       "Caddoan         1\n",
       "Chumash         1\n",
       "Eskimo-Aleut    2\n",
       "Hokan           5\n",
       "Iroquoian       2\n",
       "Keresan         1\n",
       "Kutenai         1\n",
       "Mayan           1\n",
       "Mixe-Zoque      1\n",
       "Muskogean       1\n",
       "Na-Dene         3\n",
       "Oregon Coast    1\n",
       "Oto-Manguean    5\n",
       "Penutian        6\n",
       "Salishan        2\n",
       "Siouan          2\n",
       "Tarascan        1\n",
       "Totonacan       1\n",
       "Tsimshianic     1\n",
       "Uto-Aztecan     6\n",
       "Wakashan        1\n",
       "Washo           1\n",
       "Yuchi           1\n",
       "Name: Genus, dtype: int64"
      ]
     },
     "execution_count": 74,
     "metadata": {},
     "output_type": "execute_result"
    }
   ],
   "source": [
    "df_gr_area_fam['North America']"
   ]
  },
  {
   "cell_type": "code",
   "execution_count": 75,
   "id": "f80d4fb6",
   "metadata": {},
   "outputs": [
    {
     "data": {
      "text/plain": [
       "Family\n",
       "Afro-Asiatic            1\n",
       "Altaic                  3\n",
       "Austro-Asiatic          2\n",
       "Basque                  1\n",
       "Burushaski              1\n",
       "Chukotko-Kamchatkan     1\n",
       "Dravidian               1\n",
       "Eskimo-Aleut            1\n",
       "Hmong-Mien              1\n",
       "Indo-European           9\n",
       "Japanese                1\n",
       "Kartvelian              1\n",
       "Korean                  1\n",
       "Nakh-Daghestanian       4\n",
       "Sino-Tibetan           10\n",
       "Tai-Kadai               1\n",
       "Uralic                  1\n",
       "Yukaghir                1\n",
       "Name: Genus, dtype: int64"
      ]
     },
     "execution_count": 75,
     "metadata": {},
     "output_type": "execute_result"
    }
   ],
   "source": [
    "df_gr_area_fam['Eurasia']"
   ]
  },
  {
   "cell_type": "code",
   "execution_count": 76,
   "id": "809400df",
   "metadata": {},
   "outputs": [
    {
     "data": {
      "text/plain": [
       "Family\n",
       "Austronesian             24\n",
       "Baibai-Fas                1\n",
       "Baining                   1\n",
       "Border                    1\n",
       "Duna-Bogaya               1\n",
       "East Bird's Head          1\n",
       "Greater West Bomberai     2\n",
       "Keram                     1\n",
       "Kuot                      1\n",
       "Mairasic                  1\n",
       "Maybrat                   1\n",
       "Nimboran                  1\n",
       "North Bougainville        1\n",
       "North Halmaheran          1\n",
       "Ramu-Lower Sepik          1\n",
       "Senagi                    1\n",
       "Sepik                     5\n",
       "Skou                      2\n",
       "Solomons East Papuan      3\n",
       "South Bougainville        1\n",
       "Taulil                    1\n",
       "Torricelli                3\n",
       "Trans-New Guinea         22\n",
       "Yam                       1\n",
       "Name: Genus, dtype: int64"
      ]
     },
     "execution_count": 76,
     "metadata": {},
     "output_type": "execute_result"
    }
   ],
   "source": [
    "df_gr_area_fam['Papunesia']"
   ]
  },
  {
   "cell_type": "markdown",
   "id": "3b547346",
   "metadata": {},
   "source": [
    "## Soeren"
   ]
  },
  {
   "cell_type": "code",
   "execution_count": 38,
   "id": "2ba63cac",
   "metadata": {
    "scrolled": false
   },
   "outputs": [
    {
     "name": "stderr",
     "output_type": "stream",
     "text": [
      "/Users/tasia/miniforge3/lib/python3.9/site-packages/IPython/core/interactiveshell.py:3433: DtypeWarning: Columns (34,41,42,43,47,52,53,57,58,59,64,65,66,67,68,69,70,71,72,73,74,75,78,79,80,81,86,87,90,91,92,93,94,95,96,99,101,102,103,105,106,107,108,109,111,112,113,114,115,117,118,119,120,121,122,123,124,125,126,127,128,130,131,132,133,134,135,136,137,140,141,142,145,146,147,148,150,153,154,155,156,157,158,159,160) have mixed types.Specify dtype option on import or set low_memory=False.\n",
      "  exec(code_obj, self.user_global_ns, self.user_ns)\n"
     ]
    }
   ],
   "source": [
    "df_bib = pd.read_csv('./hh_bib_table.tab', sep='\\t', encoding='utf-8')"
   ]
  },
  {
   "cell_type": "code",
   "execution_count": 42,
   "id": "c8ff88ab",
   "metadata": {},
   "outputs": [
    {
     "data": {
      "text/html": [
       "<div>\n",
       "<style scoped>\n",
       "    .dataframe tbody tr th:only-of-type {\n",
       "        vertical-align: middle;\n",
       "    }\n",
       "\n",
       "    .dataframe tbody tr th {\n",
       "        vertical-align: top;\n",
       "    }\n",
       "\n",
       "    .dataframe thead th {\n",
       "        text-align: right;\n",
       "    }\n",
       "</style>\n",
       "<table border=\"1\" class=\"dataframe\">\n",
       "  <thead>\n",
       "    <tr style=\"text-align: right;\">\n",
       "      <th></th>\n",
       "      <th>author</th>\n",
       "      <th>title</th>\n",
       "      <th>publisher</th>\n",
       "      <th>address</th>\n",
       "      <th>pages</th>\n",
       "      <th>year</th>\n",
       "      <th>glottolog_ref_id</th>\n",
       "      <th>hhtype</th>\n",
       "      <th>inlg</th>\n",
       "      <th>lgcode</th>\n",
       "      <th>...</th>\n",
       "      <th>copies</th>\n",
       "      <th>eisbn</th>\n",
       "      <th>ethiopia</th>\n",
       "      <th>translator</th>\n",
       "      <th>edition_note</th>\n",
       "      <th>title_german</th>\n",
       "      <th>title_french</th>\n",
       "      <th>weball_lgs</th>\n",
       "      <th>jmnnote</th>\n",
       "      <th>title_emglish</th>\n",
       "    </tr>\n",
       "  </thead>\n",
       "  <tbody>\n",
       "    <tr>\n",
       "      <th>0</th>\n",
       "      <td>'Abd-al-'Ali KÄrang</td>\n",
       "      <td>TÄti va Harzani, do lahja az zabÄn-i bÄstÄ...</td>\n",
       "      <td>Tabriz: Tabriz University Press</td>\n",
       "      <td>Tabriz</td>\n",
       "      <td>6+160</td>\n",
       "      <td>1334 [1953]</td>\n",
       "      <td>41999.0</td>\n",
       "      <td>grammar_sketch</td>\n",
       "      <td>Farsi [pes]</td>\n",
       "      <td>Tati, Harzani [hrz]</td>\n",
       "      <td>...</td>\n",
       "      <td>NaN</td>\n",
       "      <td>NaN</td>\n",
       "      <td>NaN</td>\n",
       "      <td>NaN</td>\n",
       "      <td>NaN</td>\n",
       "      <td>NaN</td>\n",
       "      <td>NaN</td>\n",
       "      <td>NaN</td>\n",
       "      <td>NaN</td>\n",
       "      <td>NaN</td>\n",
       "    </tr>\n",
       "    <tr>\n",
       "      <th>1</th>\n",
       "      <td>'Abd-al-'Ali KÄrang</td>\n",
       "      <td>TÄti va KeringÄni</td>\n",
       "      <td>Tabriz: Tabriz University Press</td>\n",
       "      <td>Tabriz</td>\n",
       "      <td>NaN</td>\n",
       "      <td>1330 [1952]</td>\n",
       "      <td>549845.0</td>\n",
       "      <td>grammar_sketch</td>\n",
       "      <td>Farsi [pes]</td>\n",
       "      <td>Tati, Karingani [kgn]</td>\n",
       "      <td>...</td>\n",
       "      <td>NaN</td>\n",
       "      <td>NaN</td>\n",
       "      <td>NaN</td>\n",
       "      <td>NaN</td>\n",
       "      <td>NaN</td>\n",
       "      <td>NaN</td>\n",
       "      <td>NaN</td>\n",
       "      <td>NaN</td>\n",
       "      <td>NaN</td>\n",
       "      <td>NaN</td>\n",
       "    </tr>\n",
       "    <tr>\n",
       "      <th>2</th>\n",
       "      <td>'AbÅ« á¸¤ayyÄn al-'AndalusÄ«</td>\n",
       "      <td>KitÄb al-'idrÄk li-lisÄn al-'atrÄk</td>\n",
       "      <td>Istanbul: Evkaf MatbaasÄ±</td>\n",
       "      <td>NaN</td>\n",
       "      <td>xv+186+158</td>\n",
       "      <td>1931 [1313]</td>\n",
       "      <td>319108.0</td>\n",
       "      <td>grammar_sketch;dictionary</td>\n",
       "      <td>Arabic [arb]</td>\n",
       "      <td>Mixture of Oguz and Qipchaq close to Western Q...</td>\n",
       "      <td>...</td>\n",
       "      <td>NaN</td>\n",
       "      <td>NaN</td>\n",
       "      <td>NaN</td>\n",
       "      <td>NaN</td>\n",
       "      <td>NaN</td>\n",
       "      <td>NaN</td>\n",
       "      <td>NaN</td>\n",
       "      <td>NaN</td>\n",
       "      <td>NaN</td>\n",
       "      <td>NaN</td>\n",
       "    </tr>\n",
       "    <tr>\n",
       "      <th>3</th>\n",
       "      <td>'AlÄ« HasÅ«rÄ«</td>\n",
       "      <td>GozÄresh-e gÅ«yeshhÄ-ye LorÄ«</td>\n",
       "      <td>TehrÄn: KetÄbkhÄne-ye TahÅ«rÄ«</td>\n",
       "      <td>NaN</td>\n",
       "      <td>75</td>\n",
       "      <td>1342 AHS [1963]</td>\n",
       "      <td>587478.0</td>\n",
       "      <td>overview;comparative;wordlist</td>\n",
       "      <td>Persian [pes]</td>\n",
       "      <td>Lori = Luri-Northern [lrc]</td>\n",
       "      <td>...</td>\n",
       "      <td>NaN</td>\n",
       "      <td>NaN</td>\n",
       "      <td>NaN</td>\n",
       "      <td>NaN</td>\n",
       "      <td>NaN</td>\n",
       "      <td>NaN</td>\n",
       "      <td>NaN</td>\n",
       "      <td>NaN</td>\n",
       "      <td>NaN</td>\n",
       "      <td>NaN</td>\n",
       "    </tr>\n",
       "    <tr>\n",
       "      <th>4</th>\n",
       "      <td>'AmoÌœn ThawÄ«sak</td>\n",
       "      <td>PhÄsÄ malÄyÅ« thin nai prathÄ“t thai</td>\n",
       "      <td>[Bangkok]: Institute of Language and Culture f...</td>\n",
       "      <td>NaN</td>\n",
       "      <td>70</td>\n",
       "      <td>2530 [1987]</td>\n",
       "      <td>557658.0</td>\n",
       "      <td>grammar_sketch</td>\n",
       "      <td>Thai [tha]</td>\n",
       "      <td>Malay-Pattani [mfa]</td>\n",
       "      <td>...</td>\n",
       "      <td>NaN</td>\n",
       "      <td>NaN</td>\n",
       "      <td>NaN</td>\n",
       "      <td>NaN</td>\n",
       "      <td>NaN</td>\n",
       "      <td>NaN</td>\n",
       "      <td>NaN</td>\n",
       "      <td>NaN</td>\n",
       "      <td>NaN</td>\n",
       "      <td>NaN</td>\n",
       "    </tr>\n",
       "    <tr>\n",
       "      <th>5</th>\n",
       "      <td>'Demola Lewis</td>\n",
       "      <td>Deciphering Aborigines and Migrants from Cogna...</td>\n",
       "      <td>NaN</td>\n",
       "      <td>NaN</td>\n",
       "      <td>29-51</td>\n",
       "      <td>2015</td>\n",
       "      <td>580870.0</td>\n",
       "      <td>overview;comparative;minimal</td>\n",
       "      <td>English [eng]</td>\n",
       "      <td>Etuno (Ebira in Igarra), Enwa, Akuku = Akuku [...</td>\n",
       "      <td>...</td>\n",
       "      <td>NaN</td>\n",
       "      <td>NaN</td>\n",
       "      <td>NaN</td>\n",
       "      <td>NaN</td>\n",
       "      <td>NaN</td>\n",
       "      <td>NaN</td>\n",
       "      <td>NaN</td>\n",
       "      <td>NaN</td>\n",
       "      <td>NaN</td>\n",
       "      <td>NaN</td>\n",
       "    </tr>\n",
       "    <tr>\n",
       "      <th>6</th>\n",
       "      <td>'Olam Sing and Shengan Lin</td>\n",
       "      <td>A mei yu jian ming ci dian = O Citing no pangcah</td>\n",
       "      <td>Taipei: Tai wan zu qun mu yu tui xing wei yuan...</td>\n",
       "      <td>NaN</td>\n",
       "      <td>303</td>\n",
       "      <td>2011</td>\n",
       "      <td>574188.0</td>\n",
       "      <td>dictionary</td>\n",
       "      <td>Mandarin Chinese [cmn]</td>\n",
       "      <td>Amis [ami]</td>\n",
       "      <td>...</td>\n",
       "      <td>NaN</td>\n",
       "      <td>NaN</td>\n",
       "      <td>NaN</td>\n",
       "      <td>NaN</td>\n",
       "      <td>NaN</td>\n",
       "      <td>NaN</td>\n",
       "      <td>NaN</td>\n",
       "      <td>NaN</td>\n",
       "      <td>NaN</td>\n",
       "      <td>NaN</td>\n",
       "    </tr>\n",
       "    <tr>\n",
       "      <th>7</th>\n",
       "      <td>'Olam Sing</td>\n",
       "      <td>A mei zu yu shi yong yu fa : zeng qiang yu fa ...</td>\n",
       "      <td>Taipei: PCT tai wan zu qun mu yu tui xing wei ...</td>\n",
       "      <td>NaN</td>\n",
       "      <td>223</td>\n",
       "      <td>2007</td>\n",
       "      <td>577286.0</td>\n",
       "      <td>grammar_sketch</td>\n",
       "      <td>Mandarin Chinese [cmn]</td>\n",
       "      <td>Amis [ami]</td>\n",
       "      <td>...</td>\n",
       "      <td>NaN</td>\n",
       "      <td>NaN</td>\n",
       "      <td>NaN</td>\n",
       "      <td>NaN</td>\n",
       "      <td>NaN</td>\n",
       "      <td>NaN</td>\n",
       "      <td>NaN</td>\n",
       "      <td>NaN</td>\n",
       "      <td>NaN</td>\n",
       "      <td>NaN</td>\n",
       "    </tr>\n",
       "    <tr>\n",
       "      <th>8</th>\n",
       "      <td>'Olam Sing</td>\n",
       "      <td>A mei yu yi yi suo yu yan = O ni isop a sapati...</td>\n",
       "      <td>Taipei: Totoy cheng xiang bu luo yu wen gong z...</td>\n",
       "      <td>NaN</td>\n",
       "      <td>6+183</td>\n",
       "      <td>2006</td>\n",
       "      <td>577285.0</td>\n",
       "      <td>text</td>\n",
       "      <td>Mandarin Chinese [cmn]</td>\n",
       "      <td>Amis [ami]</td>\n",
       "      <td>...</td>\n",
       "      <td>NaN</td>\n",
       "      <td>NaN</td>\n",
       "      <td>NaN</td>\n",
       "      <td>NaN</td>\n",
       "      <td>NaN</td>\n",
       "      <td>NaN</td>\n",
       "      <td>NaN</td>\n",
       "      <td>NaN</td>\n",
       "      <td>NaN</td>\n",
       "      <td>NaN</td>\n",
       "    </tr>\n",
       "    <tr>\n",
       "      <th>9</th>\n",
       "      <td>3Umar atÌ£-TÌ£aiyib as-SaÌ„siÌ„</td>\n",
       "      <td>SprichwÃ¶rter und andere volkskundliche Texte ...</td>\n",
       "      <td>NaN</td>\n",
       "      <td>NaN</td>\n",
       "      <td>156</td>\n",
       "      <td>1972</td>\n",
       "      <td>NaN</td>\n",
       "      <td>text</td>\n",
       "      <td>German [deu]</td>\n",
       "      <td>Mekka = Hijazi Arabic [acw]</td>\n",
       "      <td>...</td>\n",
       "      <td>NaN</td>\n",
       "      <td>NaN</td>\n",
       "      <td>NaN</td>\n",
       "      <td>NaN</td>\n",
       "      <td>NaN</td>\n",
       "      <td>NaN</td>\n",
       "      <td>NaN</td>\n",
       "      <td>NaN</td>\n",
       "      <td>NaN</td>\n",
       "      <td>NaN</td>\n",
       "    </tr>\n",
       "  </tbody>\n",
       "</table>\n",
       "<p>10 rows × 161 columns</p>\n",
       "</div>"
      ],
      "text/plain": [
       "                            author  \\\n",
       "0             'Abd-al-'Ali KÄrang   \n",
       "1             'Abd-al-'Ali KÄrang   \n",
       "2    'AbÅ« á¸¤ayyÄn al-'AndalusÄ«   \n",
       "3                   'AlÄ« HasÅ«rÄ«   \n",
       "4                'AmoÌœn ThawÄ«sak   \n",
       "5                    'Demola Lewis   \n",
       "6       'Olam Sing and Shengan Lin   \n",
       "7                       'Olam Sing   \n",
       "8                       'Olam Sing   \n",
       "9  3Umar atÌ£-TÌ£aiyib as-SaÌ„siÌ„   \n",
       "\n",
       "                                               title  \\\n",
       "0  TÄti va Harzani, do lahja az zabÄn-i bÄstÄ...   \n",
       "1                                TÄti va KeringÄni   \n",
       "2             KitÄb al-'idrÄk li-lisÄn al-'atrÄk   \n",
       "3                    GozÄresh-e gÅ«yeshhÄ-ye LorÄ«   \n",
       "4            PhÄsÄ malÄyÅ« thin nai prathÄ“t thai   \n",
       "5  Deciphering Aborigines and Migrants from Cogna...   \n",
       "6   A mei yu jian ming ci dian = O Citing no pangcah   \n",
       "7  A mei zu yu shi yong yu fa : zeng qiang yu fa ...   \n",
       "8  A mei yu yi yi suo yu yan = O ni isop a sapati...   \n",
       "9  SprichwÃ¶rter und andere volkskundliche Texte ...   \n",
       "\n",
       "                                           publisher address       pages  \\\n",
       "0                    Tabriz: Tabriz University Press  Tabriz       6+160   \n",
       "1                    Tabriz: Tabriz University Press  Tabriz         NaN   \n",
       "2                          Istanbul: Evkaf MatbaasÄ±     NaN  xv+186+158   \n",
       "3                  TehrÄn: KetÄbkhÄne-ye TahÅ«rÄ«     NaN          75   \n",
       "4  [Bangkok]: Institute of Language and Culture f...     NaN          70   \n",
       "5                                                NaN     NaN       29-51   \n",
       "6  Taipei: Tai wan zu qun mu yu tui xing wei yuan...     NaN         303   \n",
       "7  Taipei: PCT tai wan zu qun mu yu tui xing wei ...     NaN         223   \n",
       "8  Taipei: Totoy cheng xiang bu luo yu wen gong z...     NaN       6+183   \n",
       "9                                                NaN     NaN         156   \n",
       "\n",
       "              year  glottolog_ref_id                         hhtype  \\\n",
       "0      1334 [1953]           41999.0                 grammar_sketch   \n",
       "1      1330 [1952]          549845.0                 grammar_sketch   \n",
       "2      1931 [1313]          319108.0      grammar_sketch;dictionary   \n",
       "3  1342 AHS [1963]          587478.0  overview;comparative;wordlist   \n",
       "4      2530 [1987]          557658.0                 grammar_sketch   \n",
       "5             2015          580870.0   overview;comparative;minimal   \n",
       "6             2011          574188.0                     dictionary   \n",
       "7             2007          577286.0                 grammar_sketch   \n",
       "8             2006          577285.0                           text   \n",
       "9             1972               NaN                           text   \n",
       "\n",
       "                     inlg                                             lgcode  \\\n",
       "0             Farsi [pes]                                Tati, Harzani [hrz]   \n",
       "1             Farsi [pes]                              Tati, Karingani [kgn]   \n",
       "2            Arabic [arb]  Mixture of Oguz and Qipchaq close to Western Q...   \n",
       "3           Persian [pes]                         Lori = Luri-Northern [lrc]   \n",
       "4              Thai [tha]                                Malay-Pattani [mfa]   \n",
       "5           English [eng]  Etuno (Ebira in Igarra), Enwa, Akuku = Akuku [...   \n",
       "6  Mandarin Chinese [cmn]                                         Amis [ami]   \n",
       "7  Mandarin Chinese [cmn]                                         Amis [ami]   \n",
       "8  Mandarin Chinese [cmn]                                         Amis [ami]   \n",
       "9            German [deu]                        Mekka = Hijazi Arabic [acw]   \n",
       "\n",
       "   ... copies eisbn ethiopia  translator edition_note title_german  \\\n",
       "0  ...    NaN   NaN      NaN         NaN          NaN          NaN   \n",
       "1  ...    NaN   NaN      NaN         NaN          NaN          NaN   \n",
       "2  ...    NaN   NaN      NaN         NaN          NaN          NaN   \n",
       "3  ...    NaN   NaN      NaN         NaN          NaN          NaN   \n",
       "4  ...    NaN   NaN      NaN         NaN          NaN          NaN   \n",
       "5  ...    NaN   NaN      NaN         NaN          NaN          NaN   \n",
       "6  ...    NaN   NaN      NaN         NaN          NaN          NaN   \n",
       "7  ...    NaN   NaN      NaN         NaN          NaN          NaN   \n",
       "8  ...    NaN   NaN      NaN         NaN          NaN          NaN   \n",
       "9  ...    NaN   NaN      NaN         NaN          NaN          NaN   \n",
       "\n",
       "  title_french weball_lgs jmnnote title_emglish  \n",
       "0          NaN        NaN     NaN           NaN  \n",
       "1          NaN        NaN     NaN           NaN  \n",
       "2          NaN        NaN     NaN           NaN  \n",
       "3          NaN        NaN     NaN           NaN  \n",
       "4          NaN        NaN     NaN           NaN  \n",
       "5          NaN        NaN     NaN           NaN  \n",
       "6          NaN        NaN     NaN           NaN  \n",
       "7          NaN        NaN     NaN           NaN  \n",
       "8          NaN        NaN     NaN           NaN  \n",
       "9          NaN        NaN     NaN           NaN  \n",
       "\n",
       "[10 rows x 161 columns]"
      ]
     },
     "execution_count": 42,
     "metadata": {},
     "output_type": "execute_result"
    }
   ],
   "source": [
    "df_bib.head(10)"
   ]
  },
  {
   "cell_type": "code",
   "execution_count": 23,
   "id": "23448005",
   "metadata": {},
   "outputs": [
    {
     "ename": "UnicodeEncodeError",
     "evalue": "'latin-1' codec can't encode character '\\u0153' in position 5: ordinal not in range(256)",
     "output_type": "error",
     "traceback": [
      "\u001b[0;31m---------------------------------------------------------------------------\u001b[0m",
      "\u001b[0;31mUnicodeEncodeError\u001b[0m                        Traceback (most recent call last)",
      "Cell \u001b[0;32mIn [23], line 2\u001b[0m\n\u001b[1;32m      1\u001b[0m \u001b[38;5;124m\"\u001b[39m\u001b[38;5;124m'\u001b[39m\u001b[38;5;124mAmoÌœn ThawÄ«sak\u001b[39m\u001b[38;5;124m\"\u001b[39m\u001b[38;5;241m.\u001b[39mencode(encoding\u001b[38;5;241m=\u001b[39m\u001b[38;5;124m'\u001b[39m\u001b[38;5;124mWindows-1252\u001b[39m\u001b[38;5;124m'\u001b[39m)\u001b[38;5;241m.\u001b[39mdecode(\u001b[38;5;124m\"\u001b[39m\u001b[38;5;124mutf-8\u001b[39m\u001b[38;5;124m\"\u001b[39m)\n\u001b[0;32m----> 2\u001b[0m \u001b[38;5;124;43m\"\u001b[39;49m\u001b[38;5;124;43m'\u001b[39;49m\u001b[38;5;124;43mAmoÌœn ThawÄ«sak\u001b[39;49m\u001b[38;5;124;43m\"\u001b[39;49m\u001b[38;5;241;43m.\u001b[39;49m\u001b[43mencode\u001b[49m\u001b[43m(\u001b[49m\u001b[43mencoding\u001b[49m\u001b[38;5;241;43m=\u001b[39;49m\u001b[38;5;124;43m'\u001b[39;49m\u001b[38;5;124;43mISO-8859-1\u001b[39;49m\u001b[38;5;124;43m'\u001b[39;49m\u001b[43m)\u001b[49m\u001b[38;5;241m.\u001b[39mdecode(\u001b[38;5;124m\"\u001b[39m\u001b[38;5;124mutf-8\u001b[39m\u001b[38;5;124m\"\u001b[39m)\n",
      "\u001b[0;31mUnicodeEncodeError\u001b[0m: 'latin-1' codec can't encode character '\\u0153' in position 5: ordinal not in range(256)"
     ]
    }
   ],
   "source": [
    "\"'AmoÌœn ThawÄ«sak\".encode(encoding='Windows-1252').decode(\"utf-8\")\n",
    "\"'AmoÌœn ThawÄ«sak\".encode(encoding='ISO-8859-1').decode(\"utf-8\")"
   ]
  },
  {
   "cell_type": "markdown",
   "id": "e5825ba9",
   "metadata": {},
   "source": [
    "## WALS 2014"
   ]
  },
  {
   "cell_type": "code",
   "execution_count": 2,
   "id": "4dd361dd",
   "metadata": {},
   "outputs": [],
   "source": [
    "wals14_area = 'https://raw.githubusercontent.com/cldf-datasets/wals/ca710163dbc5d4155d13631b6757bf62564e4127/raw/walslanguage.csv'\n",
    "wals14_fam = 'https://raw.githubusercontent.com/cldf-datasets/wals/ca710163dbc5d4155d13631b6757bf62564e4127/cldf/languages.csv'"
   ]
  },
  {
   "cell_type": "code",
   "execution_count": 3,
   "id": "392cd5b5",
   "metadata": {},
   "outputs": [],
   "source": [
    "w14_a = pd.read_csv(wals14_area)\n",
    "w14_f = pd.read_csv(wals14_fam)"
   ]
  },
  {
   "cell_type": "code",
   "execution_count": 4,
   "id": "bfd62b36",
   "metadata": {},
   "outputs": [
    {
     "data": {
      "text/plain": [
       "((2679, 7), (2679, 13))"
      ]
     },
     "execution_count": 4,
     "metadata": {},
     "output_type": "execute_result"
    }
   ],
   "source": [
    "w14_a.shape, w14_f.shape"
   ]
  },
  {
   "cell_type": "code",
   "execution_count": 5,
   "id": "cd7501c1",
   "metadata": {},
   "outputs": [],
   "source": [
    "w14_a.rename(columns={'iso_codes': 'ISO_codes'}, inplace=True)"
   ]
  },
  {
   "cell_type": "code",
   "execution_count": 6,
   "id": "9cd18e2d",
   "metadata": {},
   "outputs": [],
   "source": [
    "w14 = w14_a.merge(w14_f, on='ISO_codes', how='inner', suffixes=('_a', '_f'))"
   ]
  },
  {
   "cell_type": "code",
   "execution_count": 7,
   "id": "44e1338e",
   "metadata": {},
   "outputs": [],
   "source": [
    "w14 = w14[['macroarea', 'Family', 'Genus', 'ID']]"
   ]
  },
  {
   "cell_type": "code",
   "execution_count": 8,
   "id": "563f37ec",
   "metadata": {},
   "outputs": [],
   "source": [
    "w14.drop_duplicates(inplace=True)"
   ]
  },
  {
   "cell_type": "code",
   "execution_count": 9,
   "id": "2956834b",
   "metadata": {},
   "outputs": [
    {
     "data": {
      "text/plain": [
       "(2981, 4)"
      ]
     },
     "execution_count": 9,
     "metadata": {},
     "output_type": "execute_result"
    }
   ],
   "source": [
    "w14.shape"
   ]
  },
  {
   "cell_type": "code",
   "execution_count": 12,
   "id": "8bb70d8d",
   "metadata": {},
   "outputs": [
    {
     "data": {
      "text/html": [
       "<div>\n",
       "<style scoped>\n",
       "    .dataframe tbody tr th:only-of-type {\n",
       "        vertical-align: middle;\n",
       "    }\n",
       "\n",
       "    .dataframe tbody tr th {\n",
       "        vertical-align: top;\n",
       "    }\n",
       "\n",
       "    .dataframe thead th {\n",
       "        text-align: right;\n",
       "    }\n",
       "</style>\n",
       "<table border=\"1\" class=\"dataframe\">\n",
       "  <thead>\n",
       "    <tr style=\"text-align: right;\">\n",
       "      <th></th>\n",
       "      <th>macroarea</th>\n",
       "      <th>Family</th>\n",
       "      <th>Genus</th>\n",
       "      <th>ID</th>\n",
       "    </tr>\n",
       "  </thead>\n",
       "  <tbody>\n",
       "    <tr>\n",
       "      <th>589</th>\n",
       "      <td>Africa</td>\n",
       "      <td>Indo-European</td>\n",
       "      <td>Indic</td>\n",
       "      <td>rse</td>\n",
       "    </tr>\n",
       "    <tr>\n",
       "      <th>6287</th>\n",
       "      <td>Africa</td>\n",
       "      <td>Indo-European</td>\n",
       "      <td>Germanic</td>\n",
       "      <td>afr</td>\n",
       "    </tr>\n",
       "  </tbody>\n",
       "</table>\n",
       "</div>"
      ],
      "text/plain": [
       "     macroarea         Family     Genus   ID\n",
       "589     Africa  Indo-European     Indic  rse\n",
       "6287    Africa  Indo-European  Germanic  afr"
      ]
     },
     "execution_count": 12,
     "metadata": {},
     "output_type": "execute_result"
    }
   ],
   "source": [
    "w14[(w14['macroarea'] == 'Africa') & (w14['Family'] == 'Indo-European')]"
   ]
  },
  {
   "cell_type": "code",
   "execution_count": 10,
   "id": "05169a49",
   "metadata": {},
   "outputs": [],
   "source": [
    "w14_gr = w14.groupby(['macroarea', 'Family'])['Genus'].count()"
   ]
  },
  {
   "cell_type": "code",
   "execution_count": 11,
   "id": "d7581be5",
   "metadata": {},
   "outputs": [
    {
     "data": {
      "text/plain": [
       "Family\n",
       "Afro-Asiatic      116\n",
       "Altaic              1\n",
       "Arawakan            2\n",
       "Australian         15\n",
       "Austro-Asiatic      1\n",
       "Austronesian        3\n",
       "Cariban             1\n",
       "Chimúan             1\n",
       "Huarpe              1\n",
       "Indo-European       2\n",
       "Jirajaran           1\n",
       "Kadugli             2\n",
       "Kapixana            1\n",
       "Khoisan            12\n",
       "Kwaza               1\n",
       "Mixe-Zoque          1\n",
       "Na-Dene             1\n",
       "Niger-Congo       362\n",
       "Nilo-Saharan       88\n",
       "Sino-Tibetan        6\n",
       "Skou                1\n",
       "Tacame              1\n",
       "Tasmanian           1\n",
       "Timote-Cuica        1\n",
       "Torricelli          1\n",
       "Tupian              1\n",
       "Uto-Aztecan         3\n",
       "Yeniseian           1\n",
       "other              16\n",
       "Name: Genus, dtype: int64"
      ]
     },
     "execution_count": 11,
     "metadata": {},
     "output_type": "execute_result"
    }
   ],
   "source": [
    "w14_gr['Africa']"
   ]
  },
  {
   "cell_type": "markdown",
   "id": "456beb4f",
   "metadata": {},
   "source": [
    "## WALS 2011"
   ]
  },
  {
   "cell_type": "code",
   "execution_count": 92,
   "id": "91e61f81",
   "metadata": {},
   "outputs": [],
   "source": [
    "wals11_country_lngs = 'https://raw.githubusercontent.com/cldf-datasets/wals/ef7134b87c14ac79e6d7db952f356f59afa4e237/raw/country_language.csv'\n",
    "wals11_country = 'https://raw.githubusercontent.com/cldf-datasets/wals/ef7134b87c14ac79e6d7db952f356f59afa4e237/raw/country.csv'\n",
    "wals11_lngs = 'https://raw.githubusercontent.com/cldf-datasets/wals/ef7134b87c14ac79e6d7db952f356f59afa4e237/cldf/languages.csv'"
   ]
  },
  {
   "cell_type": "code",
   "execution_count": 93,
   "id": "80ddaee5",
   "metadata": {},
   "outputs": [],
   "source": [
    "w11_c = pd.read_csv(wals11_country).dropna()\n",
    "w11_cl = pd.read_csv(wals11_country_lngs)\n",
    "w11_l = pd.read_csv(wals11_lngs)"
   ]
  },
  {
   "cell_type": "code",
   "execution_count": 96,
   "id": "62fbfad3",
   "metadata": {},
   "outputs": [],
   "source": [
    "w11_c.rename(columns={'id': 'country_id'}, inplace=True)"
   ]
  },
  {
   "cell_type": "code",
   "execution_count": 108,
   "id": "0f29c50b",
   "metadata": {},
   "outputs": [],
   "source": [
    "w11_cl = w11_cl[w11_cl['language_id'].notna()]"
   ]
  },
  {
   "cell_type": "code",
   "execution_count": 109,
   "id": "78a5014d",
   "metadata": {},
   "outputs": [],
   "source": [
    "w11 = w11_cl.merge(w11_c, on='country_id', how='inner')"
   ]
  },
  {
   "cell_type": "code",
   "execution_count": 114,
   "id": "05d2f094",
   "metadata": {},
   "outputs": [],
   "source": [
    "w11 = w11[['language_id', 'continent']]"
   ]
  },
  {
   "cell_type": "code",
   "execution_count": 116,
   "id": "40578fa0",
   "metadata": {},
   "outputs": [
    {
     "name": "stderr",
     "output_type": "stream",
     "text": [
      "/Users/tasia/miniforge3/lib/python3.9/site-packages/pandas/util/_decorators.py:311: SettingWithCopyWarning: \n",
      "A value is trying to be set on a copy of a slice from a DataFrame\n",
      "\n",
      "See the caveats in the documentation: https://pandas.pydata.org/pandas-docs/stable/user_guide/indexing.html#returning-a-view-versus-a-copy\n",
      "  return func(*args, **kwargs)\n"
     ]
    }
   ],
   "source": [
    "w11.drop_duplicates(inplace=True)"
   ]
  },
  {
   "cell_type": "code",
   "execution_count": 117,
   "id": "5443e645",
   "metadata": {},
   "outputs": [
    {
     "data": {
      "text/plain": [
       "(2696, 2)"
      ]
     },
     "execution_count": 117,
     "metadata": {},
     "output_type": "execute_result"
    }
   ],
   "source": [
    "w11.shape"
   ]
  },
  {
   "cell_type": "code",
   "execution_count": 119,
   "id": "42b24786",
   "metadata": {},
   "outputs": [],
   "source": [
    "w11_l.rename(columns={'ID': 'language_id'}, inplace=True)"
   ]
  },
  {
   "cell_type": "code",
   "execution_count": 120,
   "id": "1cb7a5bf",
   "metadata": {},
   "outputs": [],
   "source": [
    "w11_l = w11_l[w11_l['language_id'].notna()]"
   ]
  },
  {
   "cell_type": "code",
   "execution_count": 121,
   "id": "5a052016",
   "metadata": {},
   "outputs": [],
   "source": [
    "w11 = w11.merge(w11_l, on='language_id', how='inner')"
   ]
  },
  {
   "cell_type": "code",
   "execution_count": 123,
   "id": "5e8c9fe2",
   "metadata": {},
   "outputs": [
    {
     "data": {
      "text/html": [
       "<div>\n",
       "<style scoped>\n",
       "    .dataframe tbody tr th:only-of-type {\n",
       "        vertical-align: middle;\n",
       "    }\n",
       "\n",
       "    .dataframe tbody tr th {\n",
       "        vertical-align: top;\n",
       "    }\n",
       "\n",
       "    .dataframe thead th {\n",
       "        text-align: right;\n",
       "    }\n",
       "</style>\n",
       "<table border=\"1\" class=\"dataframe\">\n",
       "  <thead>\n",
       "    <tr style=\"text-align: right;\">\n",
       "      <th></th>\n",
       "      <th>language_id</th>\n",
       "      <th>continent</th>\n",
       "      <th>Name</th>\n",
       "      <th>Macroarea</th>\n",
       "      <th>Latitude</th>\n",
       "      <th>Longitude</th>\n",
       "      <th>Glottocode</th>\n",
       "      <th>ISO639P3code</th>\n",
       "      <th>Family</th>\n",
       "      <th>Subfamily</th>\n",
       "      <th>Genus</th>\n",
       "      <th>ISO_codes</th>\n",
       "      <th>Samples_100</th>\n",
       "      <th>Samples_200</th>\n",
       "    </tr>\n",
       "  </thead>\n",
       "  <tbody>\n",
       "    <tr>\n",
       "      <th>0</th>\n",
       "      <td>arr</td>\n",
       "      <td>Australia &amp; Oceania</td>\n",
       "      <td>Arrernte</td>\n",
       "      <td>NaN</td>\n",
       "      <td>-24.000000</td>\n",
       "      <td>134.000000</td>\n",
       "      <td>NaN</td>\n",
       "      <td>NaN</td>\n",
       "      <td>Australian</td>\n",
       "      <td>NaN</td>\n",
       "      <td>Pama-Nyungan</td>\n",
       "      <td>aer are</td>\n",
       "      <td>False</td>\n",
       "      <td>False</td>\n",
       "    </tr>\n",
       "    <tr>\n",
       "      <th>1</th>\n",
       "      <td>dda</td>\n",
       "      <td>Australia &amp; Oceania</td>\n",
       "      <td>Dhuwal (Dätiwuy)</td>\n",
       "      <td>NaN</td>\n",
       "      <td>-12.166667</td>\n",
       "      <td>136.250000</td>\n",
       "      <td>dhuw1249</td>\n",
       "      <td>duj</td>\n",
       "      <td>Australian</td>\n",
       "      <td>NaN</td>\n",
       "      <td>Pama-Nyungan</td>\n",
       "      <td>duj</td>\n",
       "      <td>False</td>\n",
       "      <td>False</td>\n",
       "    </tr>\n",
       "    <tr>\n",
       "      <th>2</th>\n",
       "      <td>gml</td>\n",
       "      <td>Australia &amp; Oceania</td>\n",
       "      <td>Gamilaraay</td>\n",
       "      <td>NaN</td>\n",
       "      <td>-29.833333</td>\n",
       "      <td>149.500000</td>\n",
       "      <td>gami1243</td>\n",
       "      <td>kld</td>\n",
       "      <td>Australian</td>\n",
       "      <td>NaN</td>\n",
       "      <td>Pama-Nyungan</td>\n",
       "      <td>kld</td>\n",
       "      <td>False</td>\n",
       "      <td>False</td>\n",
       "    </tr>\n",
       "    <tr>\n",
       "      <th>3</th>\n",
       "      <td>gmt</td>\n",
       "      <td>Australia &amp; Oceania</td>\n",
       "      <td>Gumatj</td>\n",
       "      <td>NaN</td>\n",
       "      <td>-12.500000</td>\n",
       "      <td>135.500000</td>\n",
       "      <td>guma1253</td>\n",
       "      <td>gnn</td>\n",
       "      <td>Australian</td>\n",
       "      <td>NaN</td>\n",
       "      <td>Pama-Nyungan</td>\n",
       "      <td>gnn</td>\n",
       "      <td>False</td>\n",
       "      <td>False</td>\n",
       "    </tr>\n",
       "    <tr>\n",
       "      <th>4</th>\n",
       "      <td>kij</td>\n",
       "      <td>Australia &amp; Oceania</td>\n",
       "      <td>Kitja</td>\n",
       "      <td>NaN</td>\n",
       "      <td>-17.500000</td>\n",
       "      <td>127.750000</td>\n",
       "      <td>kitj1240</td>\n",
       "      <td>gia</td>\n",
       "      <td>Australian</td>\n",
       "      <td>NaN</td>\n",
       "      <td>Djeragan</td>\n",
       "      <td>gia</td>\n",
       "      <td>False</td>\n",
       "      <td>False</td>\n",
       "    </tr>\n",
       "    <tr>\n",
       "      <th>...</th>\n",
       "      <td>...</td>\n",
       "      <td>...</td>\n",
       "      <td>...</td>\n",
       "      <td>...</td>\n",
       "      <td>...</td>\n",
       "      <td>...</td>\n",
       "      <td>...</td>\n",
       "      <td>...</td>\n",
       "      <td>...</td>\n",
       "      <td>...</td>\n",
       "      <td>...</td>\n",
       "      <td>...</td>\n",
       "      <td>...</td>\n",
       "      <td>...</td>\n",
       "    </tr>\n",
       "    <tr>\n",
       "      <th>2691</th>\n",
       "      <td>poa</td>\n",
       "      <td>Australia &amp; Oceania</td>\n",
       "      <td>Po-Ai</td>\n",
       "      <td>NaN</td>\n",
       "      <td>-20.666667</td>\n",
       "      <td>164.833333</td>\n",
       "      <td>fwai1237</td>\n",
       "      <td>fwa</td>\n",
       "      <td>Austronesian</td>\n",
       "      <td>Eastern Malayo-Polynesian</td>\n",
       "      <td>Oceanic</td>\n",
       "      <td>fwa</td>\n",
       "      <td>False</td>\n",
       "      <td>False</td>\n",
       "    </tr>\n",
       "    <tr>\n",
       "      <th>2692</th>\n",
       "      <td>cem</td>\n",
       "      <td>Australia &amp; Oceania</td>\n",
       "      <td>Cèmuhî</td>\n",
       "      <td>NaN</td>\n",
       "      <td>-20.833333</td>\n",
       "      <td>165.166667</td>\n",
       "      <td>cemu1238</td>\n",
       "      <td>cam</td>\n",
       "      <td>Austronesian</td>\n",
       "      <td>Eastern Malayo-Polynesian</td>\n",
       "      <td>Oceanic</td>\n",
       "      <td>cam</td>\n",
       "      <td>False</td>\n",
       "      <td>False</td>\n",
       "    </tr>\n",
       "    <tr>\n",
       "      <th>2693</th>\n",
       "      <td>tin</td>\n",
       "      <td>Australia &amp; Oceania</td>\n",
       "      <td>Tinrin</td>\n",
       "      <td>NaN</td>\n",
       "      <td>-21.666667</td>\n",
       "      <td>165.750000</td>\n",
       "      <td>tiri1258</td>\n",
       "      <td>cir</td>\n",
       "      <td>Austronesian</td>\n",
       "      <td>Eastern Malayo-Polynesian</td>\n",
       "      <td>Oceanic</td>\n",
       "      <td>cir</td>\n",
       "      <td>False</td>\n",
       "      <td>False</td>\n",
       "    </tr>\n",
       "    <tr>\n",
       "      <th>2694</th>\n",
       "      <td>iaa</td>\n",
       "      <td>Australia &amp; Oceania</td>\n",
       "      <td>Iaai</td>\n",
       "      <td>NaN</td>\n",
       "      <td>-20.416667</td>\n",
       "      <td>166.583333</td>\n",
       "      <td>iaai1238</td>\n",
       "      <td>iai</td>\n",
       "      <td>Austronesian</td>\n",
       "      <td>Eastern Malayo-Polynesian</td>\n",
       "      <td>Oceanic</td>\n",
       "      <td>iai</td>\n",
       "      <td>False</td>\n",
       "      <td>False</td>\n",
       "    </tr>\n",
       "    <tr>\n",
       "      <th>2695</th>\n",
       "      <td>dre</td>\n",
       "      <td>Australia &amp; Oceania</td>\n",
       "      <td>Drehu</td>\n",
       "      <td>NaN</td>\n",
       "      <td>-21.000000</td>\n",
       "      <td>167.250000</td>\n",
       "      <td>dehu1237</td>\n",
       "      <td>dhv</td>\n",
       "      <td>Austronesian</td>\n",
       "      <td>Eastern Malayo-Polynesian</td>\n",
       "      <td>Oceanic</td>\n",
       "      <td>dhv</td>\n",
       "      <td>False</td>\n",
       "      <td>True</td>\n",
       "    </tr>\n",
       "  </tbody>\n",
       "</table>\n",
       "<p>2696 rows × 14 columns</p>\n",
       "</div>"
      ],
      "text/plain": [
       "     language_id            continent              Name  Macroarea   Latitude  \\\n",
       "0            arr  Australia & Oceania          Arrernte        NaN -24.000000   \n",
       "1            dda  Australia & Oceania  Dhuwal (Dätiwuy)        NaN -12.166667   \n",
       "2            gml  Australia & Oceania        Gamilaraay        NaN -29.833333   \n",
       "3            gmt  Australia & Oceania            Gumatj        NaN -12.500000   \n",
       "4            kij  Australia & Oceania             Kitja        NaN -17.500000   \n",
       "...          ...                  ...               ...        ...        ...   \n",
       "2691         poa  Australia & Oceania             Po-Ai        NaN -20.666667   \n",
       "2692         cem  Australia & Oceania            Cèmuhî        NaN -20.833333   \n",
       "2693         tin  Australia & Oceania            Tinrin        NaN -21.666667   \n",
       "2694         iaa  Australia & Oceania              Iaai        NaN -20.416667   \n",
       "2695         dre  Australia & Oceania             Drehu        NaN -21.000000   \n",
       "\n",
       "       Longitude Glottocode ISO639P3code        Family  \\\n",
       "0     134.000000        NaN          NaN    Australian   \n",
       "1     136.250000   dhuw1249          duj    Australian   \n",
       "2     149.500000   gami1243          kld    Australian   \n",
       "3     135.500000   guma1253          gnn    Australian   \n",
       "4     127.750000   kitj1240          gia    Australian   \n",
       "...          ...        ...          ...           ...   \n",
       "2691  164.833333   fwai1237          fwa  Austronesian   \n",
       "2692  165.166667   cemu1238          cam  Austronesian   \n",
       "2693  165.750000   tiri1258          cir  Austronesian   \n",
       "2694  166.583333   iaai1238          iai  Austronesian   \n",
       "2695  167.250000   dehu1237          dhv  Austronesian   \n",
       "\n",
       "                      Subfamily         Genus ISO_codes  Samples_100  \\\n",
       "0                           NaN  Pama-Nyungan   aer are        False   \n",
       "1                           NaN  Pama-Nyungan       duj        False   \n",
       "2                           NaN  Pama-Nyungan       kld        False   \n",
       "3                           NaN  Pama-Nyungan       gnn        False   \n",
       "4                           NaN      Djeragan       gia        False   \n",
       "...                         ...           ...       ...          ...   \n",
       "2691  Eastern Malayo-Polynesian       Oceanic       fwa        False   \n",
       "2692  Eastern Malayo-Polynesian       Oceanic       cam        False   \n",
       "2693  Eastern Malayo-Polynesian       Oceanic       cir        False   \n",
       "2694  Eastern Malayo-Polynesian       Oceanic       iai        False   \n",
       "2695  Eastern Malayo-Polynesian       Oceanic       dhv        False   \n",
       "\n",
       "      Samples_200  \n",
       "0           False  \n",
       "1           False  \n",
       "2           False  \n",
       "3           False  \n",
       "4           False  \n",
       "...           ...  \n",
       "2691        False  \n",
       "2692        False  \n",
       "2693        False  \n",
       "2694        False  \n",
       "2695         True  \n",
       "\n",
       "[2696 rows x 14 columns]"
      ]
     },
     "execution_count": 123,
     "metadata": {},
     "output_type": "execute_result"
    }
   ],
   "source": [
    "w11"
   ]
  },
  {
   "cell_type": "code",
   "execution_count": 124,
   "id": "3ec995c2",
   "metadata": {},
   "outputs": [],
   "source": [
    "w11_gr = w11.groupby(['continent', 'Family'])['Genus'].count()"
   ]
  },
  {
   "cell_type": "code",
   "execution_count": 125,
   "id": "a521cfde",
   "metadata": {},
   "outputs": [
    {
     "data": {
      "text/plain": [
       "Family\n",
       "Afro-Asiatic     118\n",
       "Austronesian       1\n",
       "Indo-European      1\n",
       "Kadugli            2\n",
       "Khoisan           12\n",
       "Niger-Congo      369\n",
       "Nilo-Saharan      88\n",
       "other             12\n",
       "Name: Genus, dtype: int64"
      ]
     },
     "execution_count": 125,
     "metadata": {},
     "output_type": "execute_result"
    }
   ],
   "source": [
    "w11_gr['Africa']"
   ]
  },
  {
   "cell_type": "code",
   "execution_count": null,
   "id": "d5e86d0a",
   "metadata": {},
   "outputs": [],
   "source": []
  }
 ],
 "metadata": {
  "kernelspec": {
   "display_name": "Python 3 (ipykernel)",
   "language": "python",
   "name": "python3"
  },
  "language_info": {
   "codemirror_mode": {
    "name": "ipython",
    "version": 3
   },
   "file_extension": ".py",
   "mimetype": "text/x-python",
   "name": "python",
   "nbconvert_exporter": "python",
   "pygments_lexer": "ipython3",
   "version": "3.9.6"
  }
 },
 "nbformat": 4,
 "nbformat_minor": 5
}
